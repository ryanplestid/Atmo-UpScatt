{
 "cells": [
  {
   "cell_type": "markdown",
   "metadata": {},
   "source": [
    "# Monte Carlo to Perform Volume Integral Over Earth; Save Interaction Locations for Flavor Dependent Weights Later"
   ]
  },
  {
   "cell_type": "markdown",
   "metadata": {},
   "source": [
    "## Integration Using Arrays"
   ]
  },
  {
   "cell_type": "markdown",
   "metadata": {},
   "source": [
    "## Perform Preferential Sampling and make use of NuFlux Package"
   ]
  },
  {
   "cell_type": "markdown",
   "metadata": {},
   "source": [
    "The goal of a Monte Carlo integration is to perform the integral $I = \\int f( x) d x$ where $x$ is a parameter. The simplest way to accomplish this goal is to uniformly sample $x$ over the available space, and let $dx = range(x)/n_{events}$.  Then we say "
   ]
  },
  {
   "cell_type": "markdown",
   "metadata": {},
   "source": [
    "$I \\approx \\sum_i f(x_i) dx \\quad (1a)$"
   ]
  },
  {
   "cell_type": "markdown",
   "metadata": {},
   "source": [
    "However, if $f(x)$ spans several orders of magnitude over the range of $x$, it is more advantageous to preferentially sample the values of x that lead to larger $f(x)$. If we sample $x$ with probability distribution function of $\\rho(x)$, then we perform"
   ]
  },
  {
   "cell_type": "markdown",
   "metadata": {},
   "source": [
    "$I \\approx \\sum_i f(x_i) dx_i^{'} \\quad ; \\quad dx_i^{'} = dx * w(x_i) \\quad (1b)$"
   ]
  },
  {
   "cell_type": "markdown",
   "metadata": {},
   "source": [
    "Where $w(x_i)$ is a weighting function, defined such that $w(x)\\times \\rho(x) \\sim U[x_{min},x_{max}]$.  Performing the integral in this manner will allow us to save on computational time, provided we made a good pick for $\\rho(x)$"
   ]
  },
  {
   "cell_type": "markdown",
   "metadata": {},
   "source": [
    "Initialization"
   ]
  },
  {
   "cell_type": "code",
   "execution_count": 1,
   "metadata": {},
   "outputs": [],
   "source": [
    "import nuflux #Package to accurately determine the flux of neutrinos at different energies and angles\n",
    "import matplotlib #Package to help with plotting\n",
    "from mpl_toolkits import mplot3d\n",
    "from matplotlib import pyplot as plt\n",
    "import numpy as np #Package for array functions\n",
    "from numpy import pi as pi\n",
    "from matplotlib import ticker, cm\n",
    "import math\n",
    "import scipy as sp\n",
    "from scipy import special as spc\n",
    "from numpy import random as rand\n",
    "from numpy import sin, cos"
   ]
  },
  {
   "cell_type": "code",
   "execution_count": 2,
   "metadata": {},
   "outputs": [],
   "source": [
    "#Important constants\n",
    "alpha = 1/137 #Fine Structure Constant (SI Units)\n",
    "mn = .01 #Mass of lepton GeV\n",
    "d = 1e-9 #Dipole coupling (MeV^-1)\n",
    "Zed = 14 #Atomic number of Silicon\n",
    "A_Si = 28 #Atomic mass of Silicon\n",
    "R_Earth = 6378.1 * 1000* 100    #Radius of the Earth (cm)\n",
    "Num_Events = int(1e5)"
   ]
  },
  {
   "cell_type": "markdown",
   "metadata": {},
   "source": [
    "We want to begin by randomly sampling neutrino energies.  It is helpful if we sample the neutrinos in a way that is similar to their incoming flux.  The flux acts as a slowly changing power law, so we will let our sampling distribution be $\\rho(E_{\\nu}) \\sim E_{\\nu}^{-2}$.  This is hader than the true spectrum at low energies, and softer than the true spectrum at high energies, but it should be effective for a simple sampling.   To keep the probability density normalized ($\\int_{E_{min}}^{E_{max}} \\rho(E) dE = 1$), we'll use"
   ]
  },
  {
   "cell_type": "markdown",
   "metadata": {},
   "source": [
    "$\\rho(E_{\\nu}) = \\kappa E_{\\nu}^{-2} \\quad;\\quad \\kappa = \\dfrac{E_{min}E_{max}}{E_{max}-E_{min}}\\quad(2)$"
   ]
  },
  {
   "cell_type": "markdown",
   "metadata": {},
   "source": [
    "To get energies that fit this distribution, we will use $X \\sim U[0,1]$ and find the energy $E_{\\nu}$ such that"
   ]
  },
  {
   "cell_type": "markdown",
   "metadata": {},
   "source": [
    "$\\int_{E_{min}}^{E_{\\nu}} \\kappa E^{-2} dE = X \\quad (3a)$"
   ]
  },
  {
   "cell_type": "markdown",
   "metadata": {},
   "source": [
    "$E_{\\nu} = \\dfrac{\\kappa E_{\\min}}{\\kappa - E_{\\min} X} \\quad(3b)$"
   ]
  },
  {
   "cell_type": "code",
   "execution_count": 3,
   "metadata": {},
   "outputs": [
    {
     "name": "stdout",
     "output_type": "stream",
     "text": [
      "[0.1162353  0.60564539 0.68901193 0.14656504 0.24039488 0.19243681\n",
      " 0.12156671 7.73200007 0.10764239 1.64446552]\n"
     ]
    }
   ],
   "source": [
    "#Select our energies randomly\n",
    "min_E = .1 #GeV\n",
    "max_E = 10000 #GeV\n",
    "kappa = (min_E*max_E)/(max_E - min_E) #GeV\n",
    "\n",
    "Energies =(kappa*min_E)/(kappa - min_E*rand.rand(Num_Events)) #Neutrino Energies (GeV)\n",
    "print(Energies[0:10])"
   ]
  },
  {
   "cell_type": "code",
   "execution_count": 4,
   "metadata": {},
   "outputs": [
    {
     "data": {
      "text/plain": [
       "<matplotlib.legend.Legend at 0x7f35676a58e0>"
      ]
     },
     "execution_count": 4,
     "metadata": {},
     "output_type": "execute_result"
    },
    {
     "data": {
      "image/png": "[encoded data removed]",
      "text/plain": [
       "<Figure size 576x432 with 1 Axes>"
      ]
     },
     "metadata": {
      "needs_background": "light"
     },
     "output_type": "display_data"
    }
   ],
   "source": [
    "fig = plt.figure(figsize = (8,6))\n",
    "trial_Energies = np.logspace(0,4,100)\n",
    "n,bins,patches = plt.hist(Energies[0:10000], trial_Energies)\n",
    "plt.xscale('log')\n",
    "plt.xlabel('Energy (GeV)')\n",
    "plt.yscale('log')\n",
    "plt.ylabel('Count')\n",
    "\n",
    "plt.plot(trial_Energies,trial_Energies*(trial_Energies[0]/trial_Energies**2)*n[0], label = '$1/E^2$')\n",
    "plt.legend()"
   ]
  },
  {
   "cell_type": "markdown",
   "metadata": {},
   "source": [
    "Fig. Histogram of selected energies with the desired $1/E_{\\nu}^2$ distribution plotted over it"
   ]
  },
  {
   "cell_type": "markdown",
   "metadata": {},
   "source": [
    "We are working in the infinite mass limit for the nucleus, meaning that no energy is transfered from the neutrino to the nucleus.  This means that the energy of the neutrino is equal to the energy of the resulting lepton ($E_{\\nu} = E_N$).  Knowing $E_N$, the lepton mass $m_N$, and the dipole coupling $d$, we can determine the characteristic decay length of the lepton as"
   ]
  },
  {
   "cell_type": "markdown",
   "metadata": {},
   "source": [
    "$\\lambda = R_{\\oplus} \\big[\\, \\dfrac{1.97 \\times 10^{-9} MeV^{-1}}{d} \\big]\\,^2 \\big[\\, \\dfrac{1 MeV}{m_N} \\big]\\,^4 \\big[\\, \\dfrac{E_N}{10 MeV} \\big]\\, \\sqrt{\\dfrac{1-m_N^2/E_N^2}{0.99}} \\quad (4)$"
   ]
  },
  {
   "cell_type": "code",
   "execution_count": 5,
   "metadata": {},
   "outputs": [],
   "source": [
    "mn_MeV = mn*1000\n",
    "En_MeVs = Energies*1000\n",
    "Lambdas = R_Earth * (1.97e-9/d)**2 *(1/mn_MeV)**4 * (En_MeVs/10) * np.sqrt((1-mn**2/Energies**2)/0.99) #Decay lengths (cm)"
   ]
  },
  {
   "cell_type": "markdown",
   "metadata": {},
   "source": [
    "We would like to now sample volume elements, but do it in such a way that is favorable for the Monte Carlo. We want our events to be within $5\\lambda$ of the detector (any further than this, and the probability for detection drops drastically. We also need our events to occur within the Earth. For any two overlapping spheres of radii $r_1$ and $r_2$ with their centers separated by distance $d$ ($d < r_1 + r_2$), the volume of the overlap is"
   ]
  },
  {
   "cell_type": "markdown",
   "metadata": {},
   "source": [
    "$V_{overlap} = \\dfrac{\\pi}{12d}(r_1 + r_2 - d)^2 \\big(\\, d^2 + 2d(r_1+r_2) - 3(r_1-r_2)^2 \\big )\\, \\quad(5a)$"
   ]
  },
  {
   "cell_type": "markdown",
   "metadata": {},
   "source": [
    "And in our case where the center of one sphere is on the surface of another ($d = r_1$)"
   ]
  },
  {
   "cell_type": "markdown",
   "metadata": {},
   "source": [
    "$V_{overlap} = \\dfrac{\\pi}{12r_1}(r_2)^2 \\big(\\, 8r_1r_2 - 3r_1^2 \\big )\\, \\quad(5b)$"
   ]
  },
  {
   "cell_type": "markdown",
   "metadata": {},
   "source": [
    "Therefore for our case of $r_1 = R_{\\oplus}$ and $r_2 = 5 \\lambda$"
   ]
  },
  {
   "cell_type": "markdown",
   "metadata": {},
   "source": [
    "$V_{interaction} = \\dfrac{\\pi}{12R_{\\oplus}}(5\\lambda)^2(40R_{\\oplus}\\lambda - 75 \\lambda^2) \\quad for \\quad 5 \\lambda < 2 R_{\\oplus} \\quad (5c)$"
   ]
  },
  {
   "cell_type": "markdown",
   "metadata": {},
   "source": [
    "$V_{interaction} = \\dfrac{4\\pi R_{\\oplus}^3}{3} \\quad for \\quad 5 \\lambda \\geq 2R_{\\oplus}$"
   ]
  },
  {
   "cell_type": "markdown",
   "metadata": {},
   "source": [
    "We will weight our results by $dV^{'} = dV \\times ( V_{interaction}/V_{\\oplus})$"
   ]
  },
  {
   "cell_type": "markdown",
   "metadata": {},
   "source": [
    "To select volume elements, we'll use spherical coordinates $r^{'}, \\theta^{'}, \\phi^{'}$ relative to the detector, with the true position vector given by $\\overrightarrow{x} = \\big(\\, r^{'} \\sin\\theta^{'} \\cos\\phi^{'}, r^{'} \\sin\\theta^{'} \\sin\\phi^{'}, R_{\\oplus} + r^{'} \\cos\\theta^{'} \\big )\\,$. We sample these values from $\\phi^{'} \\sim U[0,2\\pi]$, $\\cos\\theta^{'} \\sim U[-1,0]$ (we only want angles that point toward the Earth), $r^{'} = 5 \\lambda \\sqrt[3]{X}$ where $X \\sim U[0,1]$. (If $5\\lambda > 2 R_{\\oplus}$ then $r^{'} = 2 R_{\\oplus} \\sqrt[3]{X}$).  \n",
    "We then require $|\\overrightarrow{x}| \\leq R_{\\oplus}$. If this is not the case, we sample again, and repeat this process until all of the events have been assigned a position"
   ]
  },
  {
   "cell_type": "code",
   "execution_count": 6,
   "metadata": {},
   "outputs": [
    {
     "name": "stdout",
     "output_type": "stream",
     "text": [
      "4112\n",
      "1108\n",
      "621\n",
      "406\n",
      "280\n",
      "195\n",
      "148\n",
      "106\n",
      "84\n",
      "69\n",
      "49\n",
      "33\n",
      "26\n",
      "21\n",
      "15\n",
      "9\n",
      "8\n",
      "5\n",
      "3\n",
      "2\n",
      "2\n",
      "1\n",
      "0\n",
      "done\n"
     ]
    }
   ],
   "source": [
    "five_lambda_over_2R = 5*Lambdas > 2*R_Earth #Find the indeces for which 5 * lambda > 2*R_Earth\n",
    "interaction_radii = 5*Lambdas #Find the radius for which we will sample for interactions cm\n",
    "interaction_volumes = (pi/(12*R_Earth))* (5*Lambdas)**2 * (40*R_Earth*Lambdas - 75 * Lambdas**2) #Volumes of interaction #cm^3\n",
    "interaction_radii[five_lambda_over_2R] = 2*R_Earth #If 5*lambda > 2*R_Earth, then set the desired radius to 2*R_Earth\n",
    "interaction_volumes[five_lambda_over_2R] = (4*pi*R_Earth**3)/3\n",
    "\n",
    "#Go through the loop to assign positions to all of our events\n",
    "'''\n",
    "r_primes = np.zeros(Num_Events)\n",
    "theta_primes = np.zeros(Num_Events)\n",
    "phi_primes = np.zeros(Num_Events)\n",
    "'''\n",
    "x_vect_vals = np.zeros((Num_Events,3))\n",
    "needed_indeces = x_vect_vals[:,0] < 1 #indeces for which we still need to assign positions (initially all of them)\n",
    "needed_events = Num_Events #Events for which we still need to assign positions\n",
    "rs_from_Earth = np.zeros(Num_Events) #distances from Earth's center\n",
    "\n",
    "while needed_events > 0:\n",
    "    #randomly calculate the point in spherical coordinates\n",
    "    r_primes = interaction_radii[needed_indeces] * (rand.rand(needed_events)**(1/3))\n",
    "    cos_theta_primes = -rand.rand(needed_events)\n",
    "    theta_primes = np.arccos(cos_theta_primes)\n",
    "    phi_primes = 2*pi*rand.rand(needed_events)\n",
    "    \n",
    "    #Find the vector from the spherical coordinate vals\n",
    "    x_vect_vals[needed_indeces,0] = r_primes*sin(theta_primes)*cos(phi_primes)\n",
    "    x_vect_vals[needed_indeces,1] = r_primes*sin(theta_primes)*sin(phi_primes)\n",
    "    x_vect_vals[needed_indeces,2] = R_Earth + r_primes*cos(theta_primes)\n",
    "    \n",
    "    #Find if the volume element is outside the Earth\n",
    "    rs_from_Earth[needed_indeces] = np.sqrt(x_vect_vals[needed_indeces,0]**2 + x_vect_vals[needed_indeces,1]**2 + x_vect_vals[needed_indeces,2]**2) #Radius relative to the center of Earth\n",
    "    needed_indeces[needed_indeces] = rs_from_Earth[needed_indeces] > R_Earth #Elements outside of the Earth\n",
    "    needed_events = sum(needed_indeces)\n",
    "    print(needed_events)\n",
    "print('done')"
   ]
  },
  {
   "cell_type": "code",
   "execution_count": 7,
   "metadata": {},
   "outputs": [
    {
     "data": {
      "text/plain": [
       "Text(0.5, 1.0, 'x and z positions in the Earth')"
      ]
     },
     "execution_count": 7,
     "metadata": {},
     "output_type": "execute_result"
    },
    {
     "data": {
      "image/png": "[encoded data removed]",
      "text/plain": [
       "<Figure size 576x432 with 1 Axes>"
      ]
     },
     "metadata": {
      "needs_background": "light"
     },
     "output_type": "display_data"
    },
    {
     "data": {
      "image/png": "[encoded data removed]",
      "text/plain": [
       "<Figure size 576x432 with 1 Axes>"
      ]
     },
     "metadata": {
      "needs_background": "light"
     },
     "output_type": "display_data"
    }
   ],
   "source": [
    "x_circle_values = np.linspace(-R_Earth,R_Earth,1000)\n",
    "y_pos_circle_values = np.sqrt(R_Earth**2 - x_circle_values**2)\n",
    "y_neg_circle_values = -np.sqrt(R_Earth**2 - x_circle_values**2)\n",
    "\n",
    "fig = plt.figure(figsize= (8,6))\n",
    "plt.scatter(x_vect_vals[0:10000,0], x_vect_vals[0:10000,1])\n",
    "plt.plot(x_circle_values,y_pos_circle_values,color = 'red')\n",
    "plt.plot(x_circle_values,y_neg_circle_values,color = 'red')\n",
    "plt.xlabel('x position (cm)', fontsize = 12)\n",
    "plt.ylabel('y position (cm)', fontsize = 12)\n",
    "plt.title('x and y positions in the Earth',fontsize = 16)\n",
    "\n",
    "fig2 = plt.figure(figsize = (8,6))\n",
    "plt.scatter(x_vect_vals[0:10000,0], x_vect_vals[0:10000,2])\n",
    "plt.plot(x_circle_values,y_pos_circle_values,color = 'red')\n",
    "plt.plot(x_circle_values,y_neg_circle_values,color = 'red')\n",
    "plt.xlabel('x position (cm)', fontsize = 12)\n",
    "plt.ylabel('z position (cm)', fontsize = 12)\n",
    "plt.title('x and z positions in the Earth', fontsize = 16)"
   ]
  },
  {
   "cell_type": "markdown",
   "metadata": {},
   "source": [
    "Figs. Distribution of volume elements in the Earth. We see that most of the events are clustered around the detector, since most of our neutrinos have sub-GeV to a couple GeV energies, and therefore have small decay lengths."
   ]
  },
  {
   "cell_type": "markdown",
   "metadata": {},
   "source": [
    "We now wish to calculate $\\dfrac{d\\sigma}{d\\cos{\\beta}}$, where $\\beta$ is the scattering angle, which will be used in the probability to scatter. We have a function for $\\dfrac{d\\sigma}{dt}$ where $t = -q^2$ and $q$ is the transferred momentum. We will work in the infinite mass limit, so the energy transfered to the nucleus is zero, and $E_N = E_{\\nu}$. Therefore, we have"
   ]
  },
  {
   "cell_type": "markdown",
   "metadata": {},
   "source": [
    "$t = -(\\overrightarrow{p_{\\nu}} - \\overrightarrow{p_{N}})^2 = E_{\\nu}^2+p_N^2-2E_{\\nu}p_N \\cos\\beta \\quad (6)$"
   ]
  },
  {
   "cell_type": "markdown",
   "metadata": {},
   "source": [
    "Where we know"
   ]
  },
  {
   "cell_type": "markdown",
   "metadata": {},
   "source": [
    "\n",
    "\n",
    "$p_N = \\sqrt{E_N^2-m_N^2} = \\sqrt{E_{\\nu}^2-m_N^2} \\quad(7)$  \n",
    "\n",
    "$t = 2E_{\\nu}^2 - m_N^2 - 2 E_{\\nu}\\sqrt{E_{\\nu}^2-m_N^2} \\cos\\beta \\quad(8a)$  \n",
    "\n",
    "$dt = -2 E_{\\nu} \\sqrt{E_{\\nu}^2 - m_N^2} d(\\cos\\beta) \\quad (8b)$  \n"
   ]
  },
  {
   "cell_type": "markdown",
   "metadata": {},
   "source": [
    "\n",
    "\n",
    "We can now sub this into our differential cross section\n",
    "\n",
    "$\\dfrac{d\\sigma}{dt} = \\dfrac{Z^2 d^2 \\alpha}{t E_{\\nu}^2} (4E^2_{\\nu} -m^2_{N}+\\dfrac{m^4_N}{t}) \\quad (9a)$\n",
    "\n",
    "$\\dfrac{d\\sigma}{d(-2E_{\\nu}\\sqrt{E_{\\nu}^2 - m_N^2}\\cos\\beta)} = \\dfrac{Z^2 d^2 \\alpha}{t E_{\\nu}^2} (4E^2_{\\nu} -m^2_{N}+\\dfrac{m^4_N}{t}) \\quad (9b)$\n",
    "\n",
    "$\\dfrac{d\\sigma}{d(\\cos\\beta)} = \\dfrac{-2\\sqrt{E_{\\nu}^2-m_N^2}*Z^2 d^2 \\alpha}{E_{\\nu}t} (4E^2_{\\nu} -m^2_{N}+\\dfrac{m^4_N}{t}) \\quad (9c)$\n",
    "\n",
    "$\\dfrac{d\\sigma}{d(\\cos\\beta)} = \\dfrac{-2\\sqrt{E_{\\nu}^2-m_N^2}*Z^2 d^2 \\alpha}{E_{\\nu} (2E_{\\nu}^2 - m_N^2 - 2 E_{\\nu}\\sqrt{E_{\\nu}^2-m_N^2} \\cos\\beta)} (4E^2_{\\nu} -m^2_{N}+\\dfrac{m^4_N}{2E_{\\nu}^2 - m_N^2 - 2 E_{\\nu}\\sqrt{E_{\\nu}^2-m_N^2} \\cos\\beta}) \\quad (9d)$\n",
    "\n",
    "This returns a negative answer, so we flip the sign\n"
   ]
  },
  {
   "cell_type": "code",
   "execution_count": 8,
   "metadata": {},
   "outputs": [
    {
     "data": {
      "text/plain": [
       "<matplotlib.legend.Legend at 0x7f355f262370>"
      ]
     },
     "execution_count": 8,
     "metadata": {},
     "output_type": "execute_result"
    },
    {
     "data": {
      "image/png": "[encoded data removed]",
      "text/plain": [
       "<Figure size 576x432 with 1 Axes>"
      ]
     },
     "metadata": {
      "needs_background": "light"
     },
     "output_type": "display_data"
    }
   ],
   "source": [
    "fig = plt.figure(figsize = (8,6))\n",
    "plot_cos_betas = 1-np.logspace(-5,np.log10(2),500)\n",
    "trial_Energies = np.logspace(2,4,3) #Neutrino Energy (MeV)\n",
    "for trial_E in trial_Energies:\n",
    "    ts = 2*trial_E**2 - mn_MeV**2 - 2*trial_E*np.sqrt(trial_E**2 - mn_MeV**2) * plot_cos_betas #Transfere momentum^2 (MeV^2)\n",
    "    leading_terms = (-2* np.sqrt(trial_E**2 - mn_MeV**2) * Zed**2*d**2*alpha)/(trial_E*ts) #MeV^-4\n",
    "    second_terms = (4*trial_E**2 - mn_MeV**2 + mn_MeV**4/ts) #MeV^2\n",
    "    Inv_Mev_to_cm = (197.3) * 1e-13 #MeV^-1 to fm * fm to cm\n",
    "    plot_ds_dcos = Inv_Mev_to_cm**2 * -leading_terms*second_terms #cm^2\n",
    "    plt.plot(1-plot_cos_betas,plot_ds_dcos,label = \"E = \"+str(trial_E)+\"MeV\")\n",
    "plt.xscale('log')\n",
    "plt.yscale('log')\n",
    "plt.xlabel(\"1-cos(beta)\")\n",
    "plt.ylabel(\"{d_sigma}/{d_cos(beta) (cm^2)\")\n",
    "plt.legend()"
   ]
  },
  {
   "cell_type": "markdown",
   "metadata": {},
   "source": [
    "\n",
    "\n",
    "Fig. Differential cross section as a function of $\\cos\\beta$. The cross section becomes orders of magnitude greater when $\\cos\\beta$ approaches 1.\n",
    "\n",
    "The flux of incoming neutrinos is isotropic, so the true distibution of scattering angles $\\beta$ follows $\\cos\\beta \\sim U[-1,1]$. Since the value of $\\dfrac{d\\sigma}{d\\cos\\beta}$ become orders of magnitude larger for a small range of $\\cos\\beta$ it makes sense to only sample where the cross section is large. We can see that the differential cross section roughly follows $\\dfrac{1}{1-\\cos\\beta}$. For right now, we'll define $A = 1-\\cos\\beta$ and let\n",
    "\n",
    "$\\rho(A) = \\dfrac{\\epsilon}{A} \\quad ; \\quad \\epsilon = \\dfrac{1}{\\ln(A_{max}/A_{min})} \\quad (10)$\n",
    "\n",
    "Our true values for $A_{min}$ and $A_{max}$ are 0 and 2, respectively. However, plugging 0 into the expression causes trouble, so we will define a UV cutoff for our $A_{min}$ (currently at $10^{-5}$). To randomly sample this distribution, let $X \\sim U[0,1]$ and\n",
    "\n",
    "$\\int_{A_{min}}^{A} \\dfrac{\\epsilon}{A^{'}} dA^{'} = X \\quad (11a)$\n",
    "\n",
    "$A = (A_{min})^{1-X} (A_{max})^{X} \\quad (11b)$\n",
    "\n",
    "$\\cos\\beta = 1 - (A_{min})^{1-X} (A_{max})^{X} \\quad (11c)$\n"
   ]
  },
  {
   "cell_type": "code",
   "execution_count": 9,
   "metadata": {},
   "outputs": [],
   "source": [
    "X = rand.rand(Num_Events)\n",
    "A_min = 1e-8\n",
    "A_max = 2\n",
    "cos_betas = 1 - (A_min)**(1-X) * (A_max)**X\n",
    "betas = np.arccos(cos_betas)"
   ]
  },
  {
   "cell_type": "markdown",
   "metadata": {},
   "source": [
    "Let $\\psi \\sim U[0,2\\pi]$. We will use $\\psi$ and $\\beta$ to define $\\overrightarrow{v_{in}}$ which is the path by which the neutrino entered Earth. This is will become important when considering matter effects for neutrino oscillations.\n",
    "\n",
    "$\\hat{v_{in}} = \\hat{v_{out}}\\cos\\beta + \\hat{v_{\\perp1}}\\sin\\beta\\cos\\psi + \\hat{v_{\\perp2}}\\sin\\beta\\sin\\psi \\quad (12)$\n",
    "\n",
    "Where $\\hat{v_{out}}$,$\\hat{v_{\\perp1}}$, and $\\hat{v_{\\perp2}}$ are all mutually orthogonal. Initial definition of the two new vectors is arbitrary, so we shall let\n",
    "\n",
    "$\\dfrac{\\overrightarrow{x} \\times \\overrightarrow{v_{out}}}{|\\overrightarrow{x} \\times \\overrightarrow{v_{out}}|} = \\hat{v_{\\perp1}} \\quad (13a)$\n",
    "\n",
    "$\\hat{v_{out}} \\times \\hat{v_{\\perp1}} = \\hat{v_{\\perp2}} \\quad(13b)$\n",
    "\n",
    "Where $\\overrightarrow{v_{out}}$ is the vector that points from the volume element to the detector. It is given by $\\overrightarrow{v_{out}} = (-x, -y, R_{\\oplus} - z)$ where $x$, $y$, and $z$ are the Cartesian coordinates of the volume element\n"
   ]
  },
  {
   "cell_type": "code",
   "execution_count": 10,
   "metadata": {},
   "outputs": [],
   "source": [
    "#Calculate the v_out vector\n",
    "v_outs = np.zeros((Num_Events,3))\n",
    "v_outs[:,0],v_outs[:,1],v_outs[:,2] = -x_vect_vals[:,0], -x_vect_vals[:,1], R_Earth - x_vect_vals[:,2]\n",
    "\n",
    "#Calculate the magnitude of v_out\n",
    "v_out_mags = np.sqrt(v_outs[:,0]**2 + v_outs[:,1]**2 + v_outs[:,2]**2)\n",
    "\n",
    "#Initialize the perpendicular unit vectors\n",
    "v_perp_1_hats = np.zeros((Num_Events,3))\n",
    "v_perp_2_hats = np.zeros((Num_Events,3))\n",
    "#Caluclate the cross product of x and v_out\n",
    "x_vect_cross_v_out = np.zeros((Num_Events,3))\n",
    "x_vect_cross_v_out[:,0] = x_vect_vals[:,1]*v_outs[:,2] - x_vect_vals[:,2]*v_outs[:,1]\n",
    "x_vect_cross_v_out[:,1] = x_vect_vals[:,2]*v_outs[:,0] - x_vect_vals[:,0]*v_outs[:,2]\n",
    "x_vect_cross_v_out[:,2] = x_vect_vals[:,0]*v_outs[:,1] - x_vect_vals[:,1]*v_outs[:,0]\n",
    "x_cross_v_mag = np.sqrt(x_vect_cross_v_out[:,0]**2 + x_vect_cross_v_out[:,1]**2 + x_vect_cross_v_out[:,2]**2)\n",
    "\n",
    "v_perp_1_hats[:,0] = x_vect_cross_v_out[:,0]/x_cross_v_mag\n",
    "v_perp_1_hats[:,1] = x_vect_cross_v_out[:,1]/x_cross_v_mag\n",
    "v_perp_1_hats[:,2] = x_vect_cross_v_out[:,2]/x_cross_v_mag\n",
    "\n",
    "#Calculate the second perpendicular component\n",
    "v_perp_2_hats[:,0] = (v_outs[:,1]*v_perp_1_hats[:,2] - v_outs[:,2]*v_perp_1_hats[:,1])/v_out_mags\n",
    "v_perp_2_hats[:,1] = (v_outs[:,2]*v_perp_1_hats[:,0] - v_outs[:,0]*v_perp_1_hats[:,2])/v_out_mags\n",
    "v_perp_2_hats[:,2] = (v_outs[:,0]*v_perp_1_hats[:,1] - v_outs[:,1]*v_perp_1_hats[:,0])/v_out_mags\n",
    "\n",
    "#Calculate v_out_hat\n",
    "v_out_hats = np.zeros((Num_Events,3))\n",
    "v_out_hats[:,0],v_out_hats[:,1],v_out_hats[:,2] = v_outs[:,0]/v_out_mags, v_outs[:,1]/v_out_mags, v_outs[:,2]/v_out_mags\n",
    "\n",
    "#Randomly select a psi, and return out v_in vectors\n",
    "psis = 2*pi*rand.rand(Num_Events)\n",
    "v_in_hats = np.zeros((Num_Events,3))\n",
    "v_in_hats[:,0] = v_out_hats[:,0]*cos(betas) + v_perp_1_hats[:,0]*sin(betas)*cos(psis) + v_perp_2_hats[:,0]*sin(betas)*sin(psis)\n",
    "v_in_hats[:,1] = v_out_hats[:,1]*cos(betas) + v_perp_1_hats[:,1]*sin(betas)*cos(psis) + v_perp_2_hats[:,1]*sin(betas)*sin(psis)\n",
    "v_in_hats[:,2] = v_out_hats[:,2]*cos(betas) + v_perp_1_hats[:,2]*sin(betas)*cos(psis) + v_perp_2_hats[:,2]*sin(betas)*sin(psis)"
   ]
  },
  {
   "cell_type": "code",
   "execution_count": 11,
   "metadata": {},
   "outputs": [
    {
     "name": "stdout",
     "output_type": "stream",
     "text": [
      "d sigma/d cos(beta) [9.52028960e-35 2.50880202e-37 1.58761785e-39 5.34490347e-37\n",
      " 6.53014064e-36 9.58209019e-34 4.49585291e-37 3.71660721e-34\n",
      " 1.26485668e-37 5.29010650e-36] cm^2\n"
     ]
    }
   ],
   "source": [
    "#Find the differential cross section with respect to the angle beta\n",
    "En_MeVs = Energies *1000  #Neutrino/Lepton Energies in MeV\n",
    "mn_MeV = mn*1000  #Lepton mass in MeV\n",
    "ts = 2*En_MeVs**2 - mn_MeV**2 - 2*En_MeVs*np.sqrt(En_MeVs**2 - mn_MeV**2) * cos_betas #Transfere momentum^2 (MeV^2)\n",
    "\n",
    "leading_terms = (-2* np.sqrt(En_MeVs**2 - mn_MeV**2) * Zed**2*d**2*alpha)/(En_MeVs*ts) #MeV^-4\n",
    "second_terms = (4*En_MeVs**2 - mn_MeV**2 + mn_MeV**4/ts) #MeV^2\n",
    "Inv_Mev_to_cm = (197.3) * 1e-13 #MeV^-1 to fm * fm to cm\n",
    "d_sigmas_d_cos_beta = Inv_Mev_to_cm**2 * -leading_terms*second_terms #cm^2\n",
    "\n",
    "print('d sigma/d cos(beta)', d_sigmas_d_cos_beta[100:110],'cm^2')"
   ]
  },
  {
   "cell_type": "markdown",
   "metadata": {},
   "source": [
    "\n",
    "\n",
    "We have already determined the decay length from Eq 5. We know that the probability for the lepton to decay and produce a photon in our detector of length $l_{dec}$ is\n",
    "\n",
    "$P_{dec}(\\overrightarrow{v_{out}},\\lambda) = \\exp \\big(\\, \\dfrac{-|\\overrightarrow{v_{out}}|}{\\lambda} \\big)\\, \\bigg(\\, 1-\\exp \\big(\\, \\dfrac{-l_{dec}}{\\lambda} \\big)\\, \\bigg)\\, \\quad (14)$\n"
   ]
  },
  {
   "cell_type": "code",
   "execution_count": 12,
   "metadata": {},
   "outputs": [
    {
     "name": "stdout",
     "output_type": "stream",
     "text": [
      "Prob of decay [4.63203419e-06 3.83944524e-08 1.34352001e-06 1.67484054e-06\n",
      " 1.36190328e-06]\n"
     ]
    }
   ],
   "source": [
    "l_dec = 10*100 #length of the detector in cm\n",
    "P_decs = np.exp(-v_out_mags/Lambdas) * (1-np.exp(-l_dec/Lambdas))\n",
    "print('Prob of decay',P_decs[100:105])"
   ]
  },
  {
   "cell_type": "markdown",
   "metadata": {},
   "source": [
    "We also need $n(\\overrightarrow{x})$, which is the number density of nuclei at our volume element. We claim density is purely a function of radius r out from the center of the Earth, and that it linearly decreases as the radius increases. Setting the density of the surface to 3 $g/cm^3$ and the density at the core to 13 $g/cm^3$ gives us a mass similar to that of the Earth"
   ]
  },
  {
   "cell_type": "code",
   "execution_count": 13,
   "metadata": {},
   "outputs": [],
   "source": [
    "def Earth_Density(r, R_Earth):\n",
    "    core_density = 13 #g/cm^3\n",
    "    surface_density = 3 #g/cm^3\n",
    "    \n",
    "    dens = core_density + (surface_density - core_density) * (r/R_Earth)\n",
    "    return(dens)"
   ]
  },
  {
   "cell_type": "code",
   "execution_count": 14,
   "metadata": {},
   "outputs": [],
   "source": [
    "rs = np.sqrt(x_vect_vals[:,0]**2 + x_vect_vals[:,1]**2 + x_vect_vals[:,2]**2)\n",
    "densities = Earth_Density(rs, R_Earth) #g/cm^3\n",
    "num_densities = (densities/A_Si) * 6.022e23 #nuclei/cm^3"
   ]
  },
  {
   "cell_type": "markdown",
   "metadata": {},
   "source": [
    "The flux of neutrinos depends upon the zenith angle of the neutrino's entry (the angle is defined so $\\phi_{zenith} = 0$ corresponds to a neutrino entering normal to Earth's surface.  We will assume that the energy and zenith angle dependence of the flux is the same everywhere on Earth.\n",
    "\n",
    "We will call the position of entry $\\overrightarrow{r_{entry}}$ and define it as\n",
    "\n",
    "$\\overrightarrow{r_{entry}} = \\overrightarrow{x} - \\overrightarrow{v_{in}} \\quad (15)$\n",
    "\n",
    "We can find the zenith angle by\n",
    "\n",
    "$\\cos\\phi_{zenith} = \\hat{r_{entry}} \\cdot \\hat{v_{in}} = \\dfrac{(\\overrightarrow{x}-\\overrightarrow{v_{in}}) \\cdot (-\\hat{v_{in}})}{|\\overrightarrow{r_{entry}}|} = \\dfrac{|\\overrightarrow{v_{in}}| - \\overrightarrow{x}\\cdot \\hat{v_{in}}}{R_{\\oplus}} \\quad (16)$\n"
   ]
  },
  {
   "cell_type": "markdown",
   "metadata": {},
   "source": [
    "Since we know that  \n",
    "\n",
    "\n",
    "$|\\overrightarrow{x} - \\overrightarrow{v_{in}}|^2 = R_{\\oplus}^2 \\quad (17a)$\n",
    "\n",
    "$|\\overrightarrow{x}|^2 - 2 \\overrightarrow{x} \\cdot \\hat{v_{in}} |\\overrightarrow{v_{in}}| + |\\overrightarrow{v_{in}}|^2 = R_{\\oplus}^2 \\quad (17b)$\n"
   ]
  },
  {
   "cell_type": "markdown",
   "metadata": {},
   "source": [
    "That means we can find $|\\overrightarrow{v_{in}}|$ by"
   ]
  },
  {
   "cell_type": "markdown",
   "metadata": {},
   "source": [
    "$|\\overrightarrow{v_{in}}| = \\overrightarrow{x} \\cdot \\hat{v_{in}} + \\sqrt{ (\\overrightarrow{x} \\cdot \\hat{v_{in}})^2 -4 (|\\overrightarrow{x}|^2 - R_{\\oplus}^2)} \\quad (18)$"
   ]
  },
  {
   "cell_type": "code",
   "execution_count": 15,
   "metadata": {},
   "outputs": [],
   "source": [
    "def Cos_Zenith_Angles(x_vect_vals, v_in_hats, R_Earth):\n",
    "    '''\n",
    "    This function takes in the 2D arrays for position and \n",
    "    incoming neutrino direction unit vectors.  The first index\n",
    "    corresponds to the event number, while the second index\n",
    "    correpsonds to the cartesian coordiante.\n",
    "    The function also reads in a float for the radius of the Earth.\n",
    "    This returns a 1D arraw of zenith angles'''\n",
    "    #Find the dot product of the two vectors\n",
    "    x_dot_vhat = x_vect_vals[:,0]*v_in_hats[:,0] + x_vect_vals[:,1]*v_in_hats[:,1] + x_vect_vals[:,2]*v_in_hats[:,2]\n",
    "    x_mag = np.sqrt(x_vect_vals[:,0]*x_vect_vals[:,0] + x_vect_vals[:,1]*x_vect_vals[:,1] + x_vect_vals[:,2]*x_vect_vals[:,2])\n",
    "    #print('x*v', x_dot_vhat)\n",
    "    \n",
    "    #Find the magnitude of vin\n",
    "    vin_mag = x_dot_vhat + np.sqrt(x_dot_vhat**2 -(x_mag**2 - R_Earth**2))\n",
    "    \n",
    "    cos_zeniths = (vin_mag - x_dot_vhat)/R_Earth\n",
    "\n",
    "    return(cos_zeniths)"
   ]
  },
  {
   "cell_type": "code",
   "execution_count": 16,
   "metadata": {},
   "outputs": [
    {
     "data": {
      "text/plain": [
       "Text(0, 0.5, 'count')"
      ]
     },
     "execution_count": 16,
     "metadata": {},
     "output_type": "execute_result"
    },
    {
     "data": {
      "image/png": "[encoded data removed]",
      "text/plain": [
       "<Figure size 432x288 with 1 Axes>"
      ]
     },
     "metadata": {
      "needs_background": "light"
     },
     "output_type": "display_data"
    }
   ],
   "source": [
    "cos_zeniths = Cos_Zenith_Angles(x_vect_vals, v_in_hats,R_Earth)\n",
    "plt.hist(cos_zeniths)\n",
    "plt.xlabel('cos($\\phi_z$)')\n",
    "plt.ylabel('count')"
   ]
  },
  {
   "cell_type": "markdown",
   "metadata": {},
   "source": [
    "Fig. Histogram of the cosine of incoming zenith angles"
   ]
  },
  {
   "cell_type": "markdown",
   "metadata": {},
   "source": [
    "To find the flux of neutrinos, we will use the package NuFlux"
   ]
  },
  {
   "cell_type": "code",
   "execution_count": 17,
   "metadata": {},
   "outputs": [
    {
     "data": {
      "image/png": "[encoded data removed]",
      "text/plain": [
       "<Figure size 576x432 with 1 Axes>"
      ]
     },
     "metadata": {
      "needs_background": "light"
     },
     "output_type": "display_data"
    }
   ],
   "source": [
    "#All Units in NuFlux are (GeV^-1 cm^-2 sr^-1 s^-1)\n",
    "flux = nuflux.makeFlux('H3a_SIBYLL23C')\n",
    "#flux = nuflux.makeFlux('IPhonda2014_spl_solmin')\n",
    "nu_e_type = nuflux.NuE\n",
    "nu_e_bar_type = nuflux.NuEBar\n",
    "nu_mu_type = nuflux.NuMu\n",
    "nu_mu_bar_type = nuflux.NuMuBar\n",
    "fluxes = (flux.getFlux(nu_e_type,Energies,cos_zeniths)+flux.getFlux(nu_e_bar_type,Energies,cos_zeniths)+\n",
    "          flux.getFlux(nu_mu_type,Energies,cos_zeniths) + flux.getFlux(nu_mu_bar_type,Energies,cos_zeniths))\n",
    "\n",
    "fig = plt.figure(figsize = (8,6))\n",
    "plt.scatter(Energies,fluxes)\n",
    "plt.xlabel('Energy (GeV)')\n",
    "plt.ylabel('Neutrinos $s^{-1} cm^{-2}$')\n",
    "plt.xscale('log')\n",
    "plt.yscale('log')"
   ]
  },
  {
   "cell_type": "markdown",
   "metadata": {},
   "source": [
    "Fig. Scatter plot of neutrino fluxes as a function of Energy"
   ]
  },
  {
   "cell_type": "markdown",
   "metadata": {},
   "source": [
    "The contribution to our total rate of decays is\n",
    "\n",
    "$dR = A_{\\perp}\\dfrac{d\\sigma}{d\\cos\\beta} n(\\overrightarrow{x})\\big(\\,4\\pi\\Phi(E_{\\nu},\\cos(\\phi_{zenith}))\\big)\\, \\dfrac{P_{dec}(\\overrightarrow{v_{out}},\\lambda)}{4\\pi |\\overrightarrow{v_{out}}|^2} dV dE_{\\nu} d\\cos\\beta \\quad (19a)$\n",
    "\n",
    "$dV = \\dfrac{\\dfrac{4}{3}\\pi R_{\\oplus}^3}{\\sqrt[3]{n_{events}}} \\quad ; \\quad dE_{\\nu} = \\dfrac{E_{max}-E_{min}}{\\sqrt[3]{n_{events}}} \\quad ; \\quad d\\cos\\beta = \\dfrac{2}{\\sqrt[3]{n_{events}}} \\quad (19b) $\n",
    "\n",
    "For uniformly sampled values. Since we did preferential sampling, we will have to replace $dV$, $dE_{\\nu}$, and $d\\cos\\beta$ with $dV^{'}$, $dE_{\\nu}^{'}$, $d\\cos\\beta^{'}$. For the variable where we just restrict the parameter spaces ($dV^{'}$) it is relatively simple\n",
    "\n",
    "$dV^{'} = \\dfrac{V_{interaction}}{\\sqrt[3]{n_{events}}} \\quad(20) $\n",
    "\n",
    "For the parameters we sampled from a power law, we want\n",
    "\n",
    "$dE_{\\nu}^{'} = \\dfrac{E_{max}-E_{min}}{\\sqrt[3]{n_{events}}} \\bigg (\\, \\dfrac{E_{\\nu}}{E_{char}} \\bigg )\\, ^2 \\quad d\\cos\\beta^{'} = \\dfrac{2}{\\sqrt[3]{n_{events}}} \\dfrac{A}{A_{char}} \\quad (21)$\n",
    "\n",
    "Where $A = 1-\\cos\\beta$. To find this characteristic energy and angle, we want to find where $\\rho(E_{\\nu}) = \\dfrac{1}{E_{max}-E_{min}}$, $\\rho(A) = 1/2$ where $\\rho(E_{\\nu})$ is from Eq 2 and the RHS of the equations are the uniform probability distributions\n",
    "\n",
    "$E_{char} = \\sqrt{E_{min}E_{max}} \\quad A_{char} = \\dfrac{A_{max}-A_{min}}{ln(A_{max}/A_{min})} \\quad (22)$\n",
    "\n",
    "We now have all the information needed to calculate the rate\n"
   ]
  },
  {
   "cell_type": "code",
   "execution_count": 18,
   "metadata": {},
   "outputs": [
    {
     "name": "stdout",
     "output_type": "stream",
     "text": [
      "Rate =  6.238466622825842e-07 decays / s\n"
     ]
    }
   ],
   "source": [
    "#New differential for volume\n",
    "dVs = interaction_volumes/(Num_Events)**(1/3)  #Differential Volume (cm^3)\n",
    "\n",
    "#New differential for energy\n",
    "char_Energy = np.sqrt(min_E*max_E)   #Characteristic Energy (GeV)\n",
    "dEs = ((max_E- min_E)/Num_Events**(1/3)) * (Energies/char_Energy)**2 #Differential energies (GeV)\n",
    "\n",
    "#New differential for cos(beta)\n",
    "A_char = (A_max - A_min)/np.log(A_max/A_min)\n",
    "d_cos_betas = (2/Num_Events**(1/3))*((1-cos_betas)/A_char)\n",
    "A_perp = 30 * (100)**2 #Area in cm^2\n",
    "\n",
    "dRs = A_perp * d_sigmas_d_cos_beta * num_densities * fluxes *4*pi* (P_decs/(4*pi*v_out_mags**2)) * dVs * dEs * d_cos_betas\n",
    "R = sum(dRs)\n",
    "\n",
    "print('Rate = ', R, 'decays / s')"
   ]
  },
  {
   "cell_type": "code",
   "execution_count": 19,
   "metadata": {},
   "outputs": [
    {
     "name": "stdout",
     "output_type": "stream",
     "text": [
      "M_N 0.01 GeV\n",
      "d 1e-09 MeV^-1\n",
      "Events in 12 years 236.08354010092287\n"
     ]
    }
   ],
   "source": [
    "#Calculate Events per 12 years\n",
    "print('M_N', mn,'GeV') \n",
    "print('d', d, 'MeV^-1')\n",
    "print('Events in 12 years', R*86400*365*12)"
   ]
  },
  {
   "cell_type": "markdown",
   "metadata": {},
   "source": [
    "## Saving 1D Density Profiles for reweighting"
   ]
  },
  {
   "cell_type": "markdown",
   "metadata": {},
   "source": [
    "If we want to consider flavor dependence, we will need to calculate the density profile that the neutrino passed through to reach the volume element and apply flavor oscillations to that. For now, we are considering a single element and a density that solely depends on radius.  By combining Eqs 12 and 18, we can calculate $\\overrightarrow{v_{in}}$ which is a vector describing the incoming direction of the neutrino.  If the interaction took place at $\\overrightarrow{x}$ then the position of the neutrino follows"
   ]
  },
  {
   "cell_type": "markdown",
   "metadata": {},
   "source": [
    "\n",
    "\n",
    "$\\overrightarrow{r_{\\nu}(u)} = \\overrightarrow{x} + (u-1)\\overrightarrow{v_{in}} \\quad;\\quad u \\in [0,1] \\quad (23)$\n",
    "\n",
    "And the distance traversed by the neutrino at any value of u is $d = u |\\overrightarrow{v_{in}}|$. The distance from the neutrino to the center of the Earth can be found by\n",
    "\n",
    "$|\\overrightarrow{r_{\\nu}(u)}|^2 = |\\overrightarrow{x}|^2 + (u-1)^2 |\\overrightarrow{v_{in}}|^2 + 2 (u-1) \\overrightarrow{x} \\cdot \\overrightarrow{v_{in}} \\quad (24)$\n",
    "\n",
    "We can then plug this into our function for the density at different values of u, saving the densities and the distance traveled by the neutrino\n"
   ]
  },
  {
   "cell_type": "code",
   "execution_count": null,
   "metadata": {},
   "outputs": [],
   "source": [
    "def One_D_Density_Profile(x_vect_vals, v_in_hats, R_Earth):\n",
    "    '''\n",
    "    This function takes in vector for the volume element\n",
    "    and the unit vector for the incoming neutrino and returns\n",
    "    the corresponding density profiles\n",
    "    \n",
    "    The inputs for the vectors must be 2D arrays with\n",
    "    the first index refering the event number and the second \n",
    "    index refering to the cartesian dimension\n",
    "    \n",
    "    This returns the distances and densities as 2D arrays\n",
    "    with the first index refering to event number and the \n",
    "    second index refering to the path\n",
    "    '''\n",
    "    \n",
    "    #Find the dot product of the two vectors\n",
    "    x_dot_vhat = x_vect_vals[:,0]*v_in_hats[:,0] + x_vect_vals[:,1]*v_in_hats[:,1] + x_vect_vals[:,2]*v_in_hats[:,2]\n",
    "    x_mag = np.sqrt(x_vect_vals[:,0]*x_vect_vals[:,0] + x_vect_vals[:,1]*x_vect_vals[:,1] + x_vect_vals[:,2]*x_vect_vals[:,2])\n",
    "    #print('x*v', x_dot_vhat)\n",
    "    \n",
    "    #Find the magnitude of vin\n",
    "    vin_mag = x_dot_vhat + np.sqrt(x_dot_vhat**2 -(x_mag**2 - R_Earth**2))\n",
    "    #print('vin mag/R_E', vin_mag/R_Earth)\n",
    "    \n",
    "    #Determine the distances and densities\n",
    "    u_vals = np.linspace(0,1,10000)\n",
    "    distances = np.zeros((len(vin_mag),len(u_vals)))\n",
    "    densities = np.zeros((len(vin_mag),len(u_vals)))\n",
    "    u_index = 0\n",
    "    for u in u_vals:\n",
    "        distances[:,u_index] = vin_mag*u\n",
    "        r_2 = x_mag**2 + (u-1)**2 *vin_mag**2 + 2 *(u-1) * x_dot_vhat* vin_mag  #cm^2\n",
    "        rad = np.sqrt(r_2) #cm\n",
    "        #print(r/R_Earth)\n",
    "        densities[:,u_index] = Earth_Density(rad, R_Earth)\n",
    "        u_index += 1\n",
    "    return(distances,densities)"
   ]
  },
  {
   "cell_type": "code",
   "execution_count": null,
   "metadata": {},
   "outputs": [],
   "source": [
    "distances,densities = One_D_Density_Profile(x_vect_vals[0:10000],v_in_hats[0:10000], R_Earth)"
   ]
  },
  {
   "cell_type": "code",
   "execution_count": null,
   "metadata": {},
   "outputs": [],
   "source": [
    "fig = plt.figure(figsize = (8,6))\n",
    "for i in range(10):\n",
    "    plt.plot(distances[4,:],densities[4,:])\n",
    "    plt.xlabel('distance traveled (cm)')\n",
    "    plt.ylabel('density $g/cm^3$')\n",
    "    plt.title('Density vs Distance traveled for incoming neutrinos')"
   ]
  },
  {
   "cell_type": "markdown",
   "metadata": {},
   "source": [
    "Fig. Density profiles for 10 neutrinos passing through the Earth\n"
   ]
  },
  {
   "cell_type": "markdown",
   "metadata": {},
   "source": [
    "A problem which arises here is a limited memory. It takes approximately 10 seconds to find the density profiles for 10,000 events, and the returned values are 2D arrays. The fuction can not have 100,000 events as an input. This might be salvaged if we are coarser in finding the density profile"
   ]
  },
  {
   "cell_type": "markdown",
   "metadata": {},
   "source": [
    "The above graph uses a constantly changing density of the Earth.  However, a common model of the Earth has discrete layers with constant density.  If we use that, we only need to find how long the neutrinos stay in each layer.  If we have the radius of the layer $R_{layer}$ we can use"
   ]
  },
  {
   "cell_type": "markdown",
   "metadata": {},
   "source": [
    "$R_{layer}^2 = |\\overrightarrow{x}|^2 + (u-1)^2 |\\overrightarrow{v_{in}}|^2 + 2 (u-1) \\overrightarrow{x} \\cdot \\overrightarrow{v_{in}} \\quad (25)$"
   ]
  },
  {
   "cell_type": "markdown",
   "metadata": {},
   "source": [
    "Meaning that we can find the corresponding u value by performing"
   ]
  },
  {
   "cell_type": "markdown",
   "metadata": {},
   "source": [
    "$u-1 = \\dfrac{-2 \\overrightarrow{x}\\cdot\\overrightarrow{v_{in}} \\pm \\sqrt{4 (\\overrightarrow{x}\\cdot\\overrightarrow{v_{in}})^2 -4|\\overrightarrow{v_{in}}|^2 (|\\overrightarrow{x}|^2 - R_{layer}^2)}}{2 |\\overrightarrow{v_{in}}|^2} \\quad (26a)$"
   ]
  },
  {
   "cell_type": "markdown",
   "metadata": {},
   "source": [
    "$u-1 = \\dfrac{- \\overrightarrow{x}\\cdot\\hat{v_{in}} \\pm \\sqrt{ (\\overrightarrow{x}\\cdot\\hat{v_{in}})^2 - (|\\overrightarrow{x}|^2 - R_{layer}^2)}}{|\\overrightarrow{v_{in}}|} \\quad (26b)$"
   ]
  },
  {
   "cell_type": "markdown",
   "metadata": {},
   "source": [
    "We can see that if $(\\overrightarrow{x}\\cdot\\hat{v_{in}})^2 < (|\\overrightarrow{x}|^2 - R_{layer}^2)$ then we don't get a solution (the neutrino never passes through that layer).  Also, we require that $u \\in [0,1]$, with answers outside of that range corresponding to layers that the neutrino would have passed had it not interacted."
   ]
  },
  {
   "cell_type": "code",
   "execution_count": null,
   "metadata": {},
   "outputs": [],
   "source": [
    "def Discrete_One_D_Density_Profile(x_vect_vals,v_in_hats,layer_radii,layer_densities,R_Earth):\n",
    "    '''\n",
    "    This function reads in the interaction positional vectors (cm) as an n-by-3 array,\n",
    "    the unit vector for the neutrinos directions of travels as an n-by-3 array,\n",
    "    an array of the radii of the top of different layers in cm,\n",
    "    an array of densities of these layers in g/cm^3,\n",
    "    and the Radius of the Earth in cm.  The layer radii and densities will\n",
    "    go from the outer layers in.\n",
    "    \n",
    "    This will return an array of the densities of the layers going down,\n",
    "    and then coming back up.\n",
    "    This will also return a 2D n-by-l array, where l is the same number as\n",
    "    the number of densities returned.  The first index corresponds to event,\n",
    "    the second index coressponds to the distance traveled in each density\n",
    "    '''\n",
    "    #Find the dot product of the two vectors\n",
    "    x_dot_vhat = x_vect_vals[:,0]*v_in_hats[:,0] + x_vect_vals[:,1]*v_in_hats[:,1] + x_vect_vals[:,2]*v_in_hats[:,2]\n",
    "    x_mag = np.sqrt(x_vect_vals[:,0]*x_vect_vals[:,0] + x_vect_vals[:,1]*x_vect_vals[:,1] + x_vect_vals[:,2]*x_vect_vals[:,2])\n",
    "    #print('x*v', x_dot_vhat)\n",
    "    \n",
    "    #Find the magnitude of vin\n",
    "    vin_mag = x_dot_vhat + np.sqrt(x_dot_vhat**2 -(x_mag**2 - R_Earth**2))\n",
    "    \n",
    "    #Initialize an array for the densities and layers going in and out\n",
    "    rho_s = np.zeros(2*len(layer_densities)-1) #g/cm^3\n",
    "    rho_s[0:len(layer_densities)] = layer_densities\n",
    "    rho_s[len(layer_densities):] = np.flip(layer_densities[0:-1])\n",
    "\n",
    "    \n",
    "    #Initialize 2D array of lengths through the different densities\n",
    "    distances = np.zeros((len(x_vect_vals),len(rho_s))) #cm\n",
    "    tot_distances = np.zeros((len(x_vect_vals),len(rho_s))) #cm\n",
    "    u_differences = np.zeros((len(x_vect_vals),len(rho_s)))\n",
    "    u_s = np.zeros((len(x_vect_vals),len(rho_s) + 1))\n",
    "    \n",
    "    #Itterate through radii going down to find the corresponding u_values\n",
    "    #We will subtract the squareroot\n",
    "    #To avoid giving errors, we will take the absolute value under the square root\n",
    "    #   but then multiply by the heaviside of the determinant\n",
    "    \n",
    "    radius_index = 0\n",
    "    for desired_radius in layer_radii:\n",
    "        u_s[:,radius_index] = 1 + ((-x_dot_vhat-np.abs((x_dot_vhat**2 - x_mag**2 + desired_radius**2))**(0.5))/vin_mag)\n",
    "        #Set to 0 if determinant is negative\n",
    "        u_s[:,radius_index] = np.real(u_s[:,radius_index] \n",
    "                                      * np.heaviside(x_dot_vhat**2 - x_mag**2 + desired_radius**2,1))\n",
    "        #Set to 1 if u is greater than 1\n",
    "        \n",
    "        u_s[:,radius_index] = (u_s[:,radius_index] \n",
    "                               + np.heaviside(u_s[:,radius_index]-1,1)*(1-u_s[:,radius_index]))\n",
    "        \n",
    "        radius_index += 1\n",
    "    \n",
    "    #Itterate through radii going up to find the coresponding u_values\n",
    "    #We will add the squareroot\n",
    "    \n",
    "    for desired_radius in np.flip(layer_radii):\n",
    "        u_s[:,radius_index] = 1 + ((-x_dot_vhat+np.abs((x_dot_vhat**2 - x_mag**2 + desired_radius**2))**(0.5))/vin_mag)\n",
    "        #Set to 0 if determinant is negative\n",
    "        u_s[:,radius_index] = np.real(u_s[:,radius_index] \n",
    "                                      * np.heaviside(x_dot_vhat**2 - x_mag**2 + desired_radius**2,1))\n",
    "        #Set to 1 if u is greater than 1\n",
    "        \n",
    "        u_s[:,radius_index] = (u_s[:,radius_index] \n",
    "                               + np.heaviside(u_s[:,radius_index]-1,1)*(1-u_s[:,radius_index]))\n",
    "        \n",
    "        radius_index += 1\n",
    "        \n",
    "    #Find the differences\n",
    "    #Specify that difference must be positive\n",
    "    for n in range(len(rho_s)):\n",
    "        u_differences[:,n] = (u_s[:,n+1] - u_s[:,n])*np.heaviside(u_s[:,n+1]-u_s[:,n],0)\n",
    "        distances[:,n] = u_differences[:,n]*vin_mag\n",
    "        tot_distances[:,n] = tot_distances[:,n-1] +distances[:,n]\n",
    "    #print('x dot v hat', x_dot_vhat[0])\n",
    "    #print('x_mag',x_mag[0])\n",
    "    #print('v_in_mag', vin_mag[0])\n",
    "    print(u_s[0,:])\n",
    "    print(u_s[0,0]+ np.heaviside(u_s[0,0],1)*(1-u_s[0,0]))\n",
    "    return(rho_s, distances, tot_distances)"
   ]
  },
  {
   "cell_type": "code",
   "execution_count": null,
   "metadata": {},
   "outputs": [],
   "source": [
    "layer_densities = np.linspace(5,15,3)\n",
    "layer_radii = np.linspace(R_Earth,R_Earth/3,3)\n",
    "rhos, discrete_distances, tot_distances = Discrete_One_D_Density_Profile(x_vect_vals,v_in_hats,layer_radii,layer_densities,R_Earth)"
   ]
  },
  {
   "cell_type": "code",
   "execution_count": null,
   "metadata": {},
   "outputs": [],
   "source": [
    "discrete_distances[4,:]"
   ]
  },
  {
   "cell_type": "code",
   "execution_count": null,
   "metadata": {},
   "outputs": [],
   "source": [
    "fig = plt.figure(figsize = (8,6))\n",
    "for i in range(5):\n",
    "    plt.scatter(discrete_distances[4,:],rhos)\n",
    "    plt.xlabel('distance traveled (cm)')\n",
    "    plt.ylabel('density $g/cm^3$')\n",
    "    plt.title('Density vs Distance traveled for incoming neutrinos')"
   ]
  },
  {
   "cell_type": "markdown",
   "metadata": {},
   "source": [
    "Fig. Scatter plot of densities vs distance traveled in each density.  The two data points for the 5 g/cm^3 density are nearly on top of each other, since the path is basically symmetric"
   ]
  },
  {
   "cell_type": "markdown",
   "metadata": {},
   "source": [
    "This method makes it harder to tell where each neutrino is at a specific time, but it returns the distance that the neutrino has traveled through each density, which is all that is needed for determining oscillations"
   ]
  },
  {
   "cell_type": "markdown",
   "metadata": {},
   "source": [
    "## Accounting for non-uniform composition of Earth and Form Factors"
   ]
  },
  {
   "cell_type": "markdown",
   "metadata": {},
   "source": [
    "\n",
    "\n",
    "We can see in Eq 9 that the dipole cross section depends upon the atomic number. The Earth is not made of a single element, but rather a composition of many elements, so we need to account for that in the cross section.  Moreover, not all interactions are coherent, so we need to include form factors\n",
    "\n",
    "What is important to us is $n\\dfrac{d\\sigma}{d\\cos\\theta}$ where n is the number density of nuclei. With different elemets, we then have\n",
    "\n",
    "$ \\sum_{Z} n(Z) \\dfrac{d\\sigma(Z)}{d\\cos\\beta} F^2(Z,A,q) $\n",
    "\n",
    "where $F^2$ is the form factor squared, $A$ is the atomic mass, and $q$ is the transfered momentum (Eq 8 will help us determine the transfered momentum from the scattering angle).  We can define $\\dfrac{d\\sigma_{base}}{d\\cos\\beta}$ which corresponds to Eq 12 using $Z = 1$, and then calculate\n",
    "\n",
    "$\\dfrac{d\\sigma_{base}}{d\\cos\\beta} \\sum_{Z} n(Z) Z^2 F^2(Z,A,q)$\n",
    "\n",
    "If we know the mass density $\\rho$ in $g/cm^3$, the atomic masses of each element $A_Z$ in $g/mol$, and the fraction masses of each element $m(Z)$ we can find $n(Z)$ as\n",
    "\n",
    "$n(Z) = \\dfrac{\\rho m(Z) N_A}{A_Z}$\n",
    "\n",
    "This means the value we're enterested in is\n",
    "\n",
    "$\\dfrac{d\\sigma_{base}}{d\\cos\\beta} \\sum_{Z} \\dfrac{\\rho m(Z) N_A}{A_Z} Z^2 F^2(Z,A,q)$\n"
   ]
  },
  {
   "cell_type": "markdown",
   "metadata": {},
   "source": [
    "\n",
    "\n",
    "We will start by calculating the Fermi form factor. The Fermi form factor is useful because it's charge distribution can be parametrized by just 2 or 3 variables, and the values for these variables are readily available. Unfortunately, the Fermi form factor requires a Fourier transform, so it is not feasible to do it for arbitrary values of $q$. Therefore, we will fit a Helm Form factor to the Fermi form factor, since a Helm form factor can be used for arbitrary values\n",
    "\n",
    "The Fermi form factor is given as the 3D Fourier transform of the charge distribution\n",
    "\n",
    "$F_{Fermi}(q) = \\int dr r^2 \\int d\\cos\\theta \\int d\\phi e^{iqr} \\rho(r)$\n",
    "\n",
    "Where $\\rho(r)$ is the Fermi charge distribution which has either 2 parameters (c and z) or 3 parameters (c, z, and w).\n",
    "\n",
    "$\\rho_{2p}(r) = \\dfrac{\\rho_0}{1+exp((r-c)/z)} $\n",
    "\n",
    "$\\rho_{3p}(r) = \\dfrac {\\rho_0 (1 + w r^2/c^2)}{1+exp((r-c)/z)}$\n"
   ]
  },
  {
   "cell_type": "code",
   "execution_count": null,
   "metadata": {},
   "outputs": [],
   "source": [
    "def Calculate_Fermi_FF2(Zed,Fermi_c, Fermi_z, q_vals_fm):\n",
    "    \n",
    "    '''\n",
    "    This function reads in the atomic number as an integer,\n",
    "    the Fermi c and z parameters as floats (in fm). An array\n",
    "    of q values (in fm^-1) is read in for which the form factor\n",
    "    is computed.\n",
    "    \n",
    "    This function returns an array that is the square of the\n",
    "    form factor at the specified values of q.  The form factor\n",
    "    is normalized so the maximum value of F^2 is 1.\n",
    "    '''\n",
    "    #Constants\n",
    "    i = (-1)**0.5\n",
    "    e = .303 #Elementary charge, Natural Units\n",
    "    \n",
    "    #Arrays and steps sizes used for the integrations\n",
    "    r_vals = np.linspace(0, 5*Fermi_c, 1000) #fm\n",
    "    cos_theta_vals = np.linspace(-1,1,50)\n",
    "    dr = r_vals[1] - r_vals[0]\n",
    "    d_cos_theta = cos_theta_vals[1] - cos_theta_vals[0]\n",
    "\n",
    "    #Initialize values for F^2 as 0\n",
    "    Fermi_FF2 = np.zeros(len(q_vals_fm))\n",
    "    \n",
    "    #Calculate F^2(q) at specified q values\n",
    "    q_index = 0\n",
    "    for q in q_vals_fm:\n",
    "        \n",
    "        #Perform the integral over r and cos(theta) to get F(q)\n",
    "        fourier_vals = np.exp(i*q*np.outer(cos_theta_vals,r_vals))* 2*pi * r_vals**2 /(1+np.exp((r_vals-Fermi_c)/Fermi_z)) *dr*d_cos_theta\n",
    "        fourier_int = sum(sum(fourier_vals))\n",
    "        #Square the integrated value to get F^2(q)\n",
    "        Fermi_FF2[q_index] = np.real(fourier_int * np.conj(fourier_int))\n",
    "        q_index += 1\n",
    "    \n",
    "    #Normalize F^2\n",
    "    Fermi_FF2 = Fermi_FF2 / max(Fermi_FF2)\n",
    "    return(Fermi_FF2)\n",
    "\n",
    "def Calculate_Fermi_3P_FF2(Zed, Fermi_c, Fermi_z, Fermi_w, q_vals_fm):\n",
    "    '''\n",
    "    This function reads in the atomic number as an integer,\n",
    "    the Fermi c and z parameters as floats (in fm) and the \n",
    "    Fermi w parameter as a float (unitless). An array\n",
    "    of q values (in fm^-1) is read in for which the form factor\n",
    "    is computed.\n",
    "    \n",
    "    This function returns an array that is the square of the\n",
    "    form factor at the specified values of q.  The form factor\n",
    "    is normalized so the maximum value of F^2 is 1.\n",
    "    '''\n",
    "    #Constants\n",
    "    i = (-1)**0.5\n",
    "    e = .303 #Elementary charge, Natural Units\n",
    "    \n",
    "    #Arrays and step sizes for the integration\n",
    "    r_vals = np.linspace(0, 5*Fermi_c, 1000) #fm\n",
    "    cos_theta_vals = np.linspace(-1,1,50)\n",
    "    dr = r_vals[1] - r_vals[0]\n",
    "    d_cos_theta = cos_theta_vals[1] - cos_theta_vals[0]\n",
    "\n",
    "    #Initialize the values of F^2(q) as 0\n",
    "    Fermi_FF2 = np.zeros(len(q_vals_fm))\n",
    "    \n",
    "    #Calculate F^2(q) at specified values of q\n",
    "    q_index = 0\n",
    "    for q in q_vals_fm:\n",
    "        \n",
    "        #Perform the integral over r and cos(theta) to get F(q)\n",
    "        \n",
    "        fourier_vals = (np.exp(i*q*np.outer(cos_theta_vals,r_vals))* 2*pi * r_vals**2 \n",
    "                        * (1+Fermi_w *r_vals**2/Fermi_c**2) /(1+np.exp((r_vals-Fermi_c)/Fermi_z)) *dr*d_cos_theta)\n",
    "        fourier_int = sum(sum(fourier_vals))\n",
    "        \n",
    "        #Square the integrated value to get F^2(q)\n",
    "        Fermi_FF2[q_index] = np.real(fourier_int * np.conj(fourier_int))\n",
    "        q_index += 1\n",
    "    \n",
    "    #Normalize F^2(q)\n",
    "    Fermi_FF2 = Fermi_FF2 / max(Fermi_FF2)\n",
    "    return(Fermi_FF2)"
   ]
  },
  {
   "cell_type": "markdown",
   "metadata": {},
   "source": [
    "Define the Helm form factor $R_1$ being the effective radius and $s$ being the skin thickness. $j_1(z)$ is the spherical Bessel function\n",
    "\n",
    "$F^2_{Helm}(q) = [\\dfrac{3 j_1(qR_1)}{qR_1}]^2 \\exp{-(qs)^2}$\n",
    "\n",
    "There are also parameters $R_A$ and $r_0$ so that\n",
    "\n",
    "$R_1 = \\sqrt{R_a^2+(7/3)\\pi^2 r0^2 - 5s^2}$\n",
    "\n",
    "We want to fit the values of $R_1$ and $s$ to the values obtained from the Fermi charge distribution. To obtain the fit, we calculate $D = \\int(F^2_{Helm}(q) - F^2_{Fermi}(q))^2 dq$ and then update our variables as $R_a \\to R_a - \\dfrac{dD}{dR_a} \\Delta(R_A)$, $r_0 \\to r_0 - \\dfrac{dD}{dr_0} \\Delta(r_0)$ and $s \\to s - \\dfrac{dD}{ds}\\Delta(s)$, where $\\Delta(x)$ is used to modulate the step size. After enough iterations, our values will converge, and return the best fits for $s$ and $R_1$ used in the Helm form factor\n"
   ]
  },
  {
   "cell_type": "code",
   "execution_count": null,
   "metadata": {},
   "outputs": [],
   "source": [
    "def Find_Helm_Parameters(Zed,Fermi_c,Fermi_z, q_vals, Fermi_w = 0, parameters =2):\n",
    "    '''\n",
    "    This function reads in the atomic number as an integer, the\n",
    "    Fermi parameters of c and z (in fm) as floats, and an array\n",
    "    of the q values (in fm) for which we are interested.  If we\n",
    "    want to do the 3 parameter Fermi fit, we must specify the \n",
    "    Fermi w value and give 3 as our final input.\n",
    "    \n",
    "    It returns the best fit values of R1 and s (in fm) for\n",
    "    the Helm Form factor as compared to the 2 parameter\n",
    "    Fermi form factor\n",
    "    '''\n",
    "    #Initial guess\n",
    "    Ra = 1.23 * (2*Zed)**(1/3) - 0.6 #fm\n",
    "    r0 = 0.52 #fm\n",
    "    s = Fermi_z #fm\n",
    "    delta_Ra = (1.23 * (2*Zed)**(1/3) - 0.6)/5\n",
    "    delta_r0 = (0.52)/5\n",
    "    delta_s = Fermi_z/5\n",
    "    \n",
    "    #Calculate the Fermi Form factor at the specified values of q\n",
    "    if parameters == 3:\n",
    "        Fermi_FF2 = Calculate_Fermi_3P_FF2(Zed,Fermi_c,Fermi_z,Fermi_w,q_vals) #Form factors from fermi distribution\n",
    "    else:\n",
    "        Fermi_FF2 = Calculate_Fermi_FF2(Zed, Fermi_c, Fermi_z, q_vals) #Form factors from fermi distribution\n",
    "    '''\n",
    "    fig = plt.figure(figsize = (8,6))\n",
    "    plt.plot(q_vals, Fermi_FF2, label = 'Fermi')\n",
    "    print('Fermi done')\n",
    "    '''\n",
    "    #Initialize the Helm Form factor as zeros\n",
    "    Helm_FF2 = np.zeros(len(Fermi_FF2))  #Helm form factors\n",
    "    \n",
    "    #Perform a set number of trials to find the best fit parameters\n",
    "    for trial in range(401):\n",
    "        #Calculate the Helm Form Factor squared with the parameters as is\n",
    "        \n",
    "        R1 = np.sqrt(Ra**2+(7/3)*pi**2*r0**2 -5*s**2)\n",
    "        Helm_FF2 = ((3*spc.spherical_jn(1,q_vals*R1))/(q_vals*R1))**2 *np.exp((q_vals*s)**2)\n",
    "        '''\n",
    "        if trial%200 == 0:\n",
    "            plt.plot(q_vals, Helm_FF2, label = \"Helm trial = \"+str(trial))\n",
    "            plt.legend()\n",
    "        '''\n",
    "        \n",
    "        #Find the difference between the Helm and Fermi form factors\n",
    "        #  with the Helm parameters as is\n",
    "        initial_difference = sum((Helm_FF2 - Fermi_FF2)**2)\n",
    "        \n",
    "        #Increase our R_a value and find the new difference between the form factors\n",
    "        Ra_p = Ra + 0.1*delta_Ra\n",
    "        R1 = np.sqrt(Ra_p**2+(7/3)*pi**2*r0**2 -5*s**2)\n",
    "        Helm_FF2 = ((3*spc.spherical_jn(1,q_vals*R1))/(q_vals*R1))**2 *np.exp((q_vals*s)**2)\n",
    "        \n",
    "        Ra_difference = sum((Helm_FF2 - Fermi_FF2)**2)\n",
    "        \n",
    "        #Increase our s value and find the new difference between the form factors\n",
    "        s_p = s+ delta_s\n",
    "        R1 = np.sqrt(Ra**2+(7/3)*pi**2*r0**2 -5*s_p**2)\n",
    "        Helm_FF2 = ((3*spc.spherical_jn(1,q_vals*R1))/(q_vals*R1))**2 *np.exp((q_vals*s_p)**2)\n",
    "        \n",
    "        s_difference = sum((Helm_FF2 - Fermi_FF2)**2)\n",
    "        \n",
    "        #Increase our r_0 value and find the new difference between the form factors\n",
    "        r0_p = r0+ delta_r0\n",
    "        R1 = np.sqrt(Ra**2+(7/3)*pi**2*r0_p**2 -5*s**2)\n",
    "        Helm_FF2 = ((3*spc.spherical_jn(1,q_vals*R1))/(q_vals*R1))**2 *np.exp((q_vals*s)**2)\n",
    "        \n",
    "        r0_difference = sum((Helm_FF2 - Fermi_FF2)**2)\n",
    "    \n",
    "        #See how the difference between the Fermi and Helm form factors\n",
    "        #  depended on our Helm parameters\n",
    "        dD_dRa = Ra_difference - initial_difference\n",
    "        dD_ds = s_difference - initial_difference\n",
    "        dD_dr0 = r0_difference - initial_difference\n",
    "        \n",
    "        #Alter Helm parameters so as to decrease the difference between\n",
    "        # the Fermi and Helm form factors\n",
    "        Ra = Ra - dD_dRa *delta_Ra\n",
    "        s = s - dD_ds * delta_s\n",
    "        r0 = r0 - dD_dr0 *delta_r0\n",
    "        '''\n",
    "        plt.legend()\n",
    "        plt.ylabel('Form Factor^2')\n",
    "        plt.xlabel('q ($fm^{-1}$)')\n",
    "        plt.title('Fitting Helm Form Factor to 2 parameter Fermi')\n",
    "        '''\n",
    "        #Calculate R1 with the improved parameters.\n",
    "        R1 = np.sqrt(Ra**2+(7/3)*pi**2*r0**2 -5*s**2)\n",
    "    return(R1,s)"
   ]
  },
  {
   "cell_type": "code",
   "execution_count": null,
   "metadata": {},
   "outputs": [],
   "source": [
    "#Calculate the Helm Form Factor\n",
    "def Helm_FF2(q_MeV,R1,s):\n",
    "    '''\n",
    "    This function reads in the transfered momentum q in\n",
    "    MeV, R1 in fm, and s in fm and returns the square of\n",
    "    the Helm form factor.'''\n",
    "    q_fm = 1/197.3 * q_MeV #fm^-1\n",
    "    FF2 = (3*spc.spherical_jn(1,q_fm*R1)/(q_fm*R1))**2 * np.exp(-(q_fm*s)**2)\n",
    "    #print(FF2)\n",
    "    return(FF2)"
   ]
  },
  {
   "cell_type": "code",
   "execution_count": null,
   "metadata": {},
   "outputs": [],
   "source": [
    "# Create a dictionary of Fermi parameters\n",
    "# Enter two numbers(Z A) as a string, separated by a space\n",
    "# Sodium does not have a Fermi Form Factor\n",
    "Fermi_Dict = dict({\"8 16\":dict({\"c\":2.608, \"z\": 0.513, \"w\": -0.051}),\n",
    "                   \"12 24\":dict({\"c\":2.98,\"z\":0.551, \"w\": 0}),\n",
    "                   \"13 27\":dict({\"c\":2.84, \"z\":0.569, \"w\":0}),\n",
    "                   \"14 28\":dict({\"c\":3.340, \"z\": 0.580, \"w\": -0.233}),\n",
    "                   \"19 39\":dict({\"c\":3.408, \"z\": 0.585, \"w\": -0.201}),\n",
    "                   \"20 40\":dict({\"c\":3.766, \"z\": 0.586, \"w\":-0.161}),\n",
    "                   \"22 48\":dict({\"c\":3.843, \"z\": 0.588, \"w\": 0}),\n",
    "                   \"24 52\":dict({\"c\":4.01, \"z\":0.497,\"w\":0}),\n",
    "                   \"25 55\":dict({\"c\":3.89, \"z\":0.567,\"w\":0}),\n",
    "                   #\"26 54\":dict({\"c\":4.075, \"z\":0.506, \"w\":0}),\n",
    "                   \"26 56\":dict({\"c\":4.106, \"z\": 0.519, \"w\":0}),\n",
    "                   \"28 58\":dict({\"c\":4.3092, \"z\": 0.5169,\"w\":-0.1308}),\n",
    "                   #\"28 60\":dict({\"c\":4.4891,\"z\":0.5369,\"w\":-0.2668})\n",
    "                  })"
   ]
  },
  {
   "cell_type": "code",
   "execution_count": null,
   "metadata": {},
   "outputs": [],
   "source": [
    "#Create a dictionary for the Helm Parameters by fitting the fermi parameters\n",
    "#Enter two numbers (Z A) as a string, separted by a space\n",
    "#Returns another dictionary for R1 and s\n",
    "Helm_Dict= dict({})\n",
    "q_vals = np.linspace(.01,2,100) #fm^-1\n",
    "for key in Fermi_Dict.keys():\n",
    "    #Get the Fermi parameters\n",
    "    element = Fermi_Dict[key]\n",
    "    Zed_str,A_str = key.split(\" \")\n",
    "    Fermi_c,Fermi_z,Fermi_w = element[\"c\"], element[\"z\"], element[\"w\"]\n",
    "    #Fit the Helm Parameters\n",
    "    R1,s = Find_Helm_Parameters(int(Zed_str),Fermi_c,Fermi_z,q_vals,Fermi_w,3)\n",
    "    Helm_Dict[key] =dict({\"R1\":R1,\"s\":s})\n",
    "\n",
    "print(Helm_Dict)"
   ]
  },
  {
   "cell_type": "code",
   "execution_count": null,
   "metadata": {},
   "outputs": [],
   "source": [
    "#Dictionary for the Earth's composition and structure\n",
    "#Radii are given in cm, densities are given in g/cm^3\n",
    "#Any mass fractions assigned to sodium are given to Magnesium (nuclear structure should be similar)\n",
    "#No Fermi parameters for sulfur at the core, so the\n",
    "#   composition was split between iron and nickle\n",
    "Earth_Composition_Dict = dict({\"crust\":dict({\"radii\":[R_Earth - 3500000,R_Earth], \"density\":2.55,\n",
    "                                            \"comp\":[\"8 16\",\"14 28\",\"13 27\",\"26 56\",\"20 40\",\"12 24\",\"19 39\",\"22 48\"],\n",
    "                                            \"frac\":[.46,.28,.083,.056,.042, .049,.02,.0061]}),\n",
    "                               \"upper mantle\":dict({\"radii\":[R_Earth-66000000,R_Earth-3500000],\"density\":3.9,\n",
    "                                                   \"comp\":[\"8 16\", \"12 24\", \"14 28\", \"26 56\", \"20 40\", \"13 27\", \"19 39\"],\n",
    "                                                   \"frac\":[.45, .233, .22, .058, .023, .022, .003]}),\n",
    "                               \"lower mantle\":dict({\"radii\":[R_Earth-289000000,R_Earth-66000000],\"density\": 4.5,\n",
    "                                                   \"comp\":[\"8 16\", \"12 24\", \"14 28\", \"26 56\", \"20 40\", \"13 27\", \"19 39\"],\n",
    "                                                   \"frac\":[.45, .233, .22, .058, .023, .022, .003]}),\n",
    "                               \"outer core\":dict({\"radii\":[R_Earth-510000000,R_Earth-289000000],\"density\":11.05,\n",
    "                                                 \"comp\" : [\"26 56\",\"28 58\"],\n",
    "                                                 \"frac\": [.9105,.805]}),\n",
    "                               \"inner core\":dict({\"radii\":[0,R_Earth-510000000],\"density\": 12.95,\n",
    "                                                 \"comp\" : [\"26 56\",\"28 58\"],\n",
    "                                                 \"frac\": [.9105,.805]})\n",
    "                              })"
   ]
  },
  {
   "cell_type": "code",
   "execution_count": null,
   "metadata": {},
   "outputs": [],
   "source": [
    "def d_sigma_base_d_cos_beta(Energies,cos_betas,mn,d):\n",
    "    '''\n",
    "    This function takes in the energies (in GeV) and cosines of the \n",
    "    scattering angles as arrays, the lepton mass (in GeV) and the \n",
    "    dipole coupling (in MeV^-1).\n",
    "    \n",
    "    This function returns an array of the base differential cross\n",
    "    section (in cm^2), and an array of the t values (in MeV^2)\n",
    "    '''\n",
    "    alpha = 1/137 #SI Units\n",
    "    #Find the differential cross section with respect to the angle beta\n",
    "    En_MeVs = Energies *1000  #Neutrino/Lepton Energies in MeV\n",
    "    mn_MeV = mn*1000  #Lepton mass in MeV\n",
    "    ts = 2*En_MeVs**2 - mn_MeV**2 - 2*En_MeVs*np.sqrt(En_MeVs**2 - mn_MeV**2) * cos_betas #Transfere momentum^2 (MeV^2)\n",
    "\n",
    "    leading_terms = (-2* np.sqrt(En_MeVs**2 - mn_MeV**2) *d**2*alpha)/(En_MeVs*ts) #MeV^-4\n",
    "    second_terms = (4*En_MeVs**2 - mn_MeV**2 + mn_MeV**4/ts) #MeV^2\n",
    "    Inv_Mev_to_cm = (197.3) * 1e-13 #MeV^-1 to fm * fm to cm\n",
    "    d_sigmas_base_d_cos_beta = Inv_Mev_to_cm**2 * -leading_terms*second_terms #cm^2\n",
    "    return(d_sigmas_base_d_cos_beta, ts)"
   ]
  },
  {
   "cell_type": "code",
   "execution_count": null,
   "metadata": {},
   "outputs": [],
   "source": [
    "def n_d_sigma_d_cos_beta(x_vect_vals, d_sigmas_base_d_cos_beta, ts, Earth_Composition_Dict,Helm_Dict):\n",
    "    #Determine the radii and q values for the different events\n",
    "    x_mags = np.sqrt(x_vect_vals[:,0]**2 + x_vect_vals[:,1]**2 + x_vect_vals[:,2]**2)\n",
    "    qs = np.sqrt(ts)\n",
    "    \n",
    "    #Initialize our coefficients, by which we will multiply the base cross secs\n",
    "    coeffs = np.zeros(len(x_mags))\n",
    "    \n",
    "    #Iterate through the different layers of the Earth\n",
    "    E_comp_keys = Earth_Composition_Dict.keys()\n",
    "    for E_key in E_comp_keys:\n",
    "        #Determine which events are in the layer\n",
    "        small_radius, big_radius = Earth_Composition_Dict[E_key]['radii'][0],Earth_Composition_Dict[E_key]['radii'][1]\n",
    "        layer_indeces = (small_radius < x_mags) * (x_mags <= big_radius)\n",
    "        density = Earth_Composition_Dict[E_key]['density']\n",
    "        \n",
    "        #Iterate through the nuclei\n",
    "        for nuc_index in range(len(Earth_Composition_Dict[E_key][\"comp\"])):\n",
    "            nucleus = Earth_Composition_Dict[E_key][\"comp\"][nuc_index]\n",
    "            mass_frac = Earth_Composition_Dict[E_key][\"frac\"][nuc_index]\n",
    "            #Record the atomic number and atomic mass\n",
    "            Zed_str, A_str = nucleus.split(' ')\n",
    "            Zed, A = int(Zed_str), int(A_str)\n",
    "            #Record the R1 and s parameters for the element\n",
    "            R1,s = Helm_Dict[nucleus]['R1'], Helm_Dict[nucleus]['s']\n",
    "            #Find the form factor squared\n",
    "            FF2s = Helm_FF2(qs, R1,s)\n",
    "            #Add this to the contribution to the coefficient\n",
    "            coeffs[layer_indeces] = coeffs[layer_indeces] + ((density*mass_frac*6.022e23/A)*Zed**2*FF2s[layer_indeces])\n",
    "    \n",
    "    n_d_sigma_d_cos_beta = d_sigmas_base_d_cos_beta * coeffs\n",
    "    \n",
    "    return(n_d_sigma_d_cos_beta)"
   ]
  },
  {
   "cell_type": "code",
   "execution_count": null,
   "metadata": {},
   "outputs": [],
   "source": [
    "d_sigmas_base_d_cos_beta, ts = d_sigma_base_d_cos_beta(Energies,cos_betas,mn,d)\n",
    "n_d_sigma_d_cos_beta = n_d_sigma_d_cos_beta(x_vect_vals, d_sigmas_base_d_cos_beta, ts, Earth_Composition_Dict,Helm_Dict)"
   ]
  },
  {
   "cell_type": "code",
   "execution_count": null,
   "metadata": {},
   "outputs": [],
   "source": [
    "fig1 = plt.figure(figsize = (8,6))\n",
    "bins = np.logspace(-25, np.log10(max(n_d_sigma_d_cos_beta)), 100)\n",
    "plt.hist(d_sigmas_d_cos_beta*num_densities,bins)\n",
    "plt.xlabel('cm^2')\n",
    "plt.xscale('log')\n",
    "plt.title('original')\n",
    "\n",
    "fig2 = plt.figure(figsize = (8,6))\n",
    "plt.hist(n_d_sigma_d_cos_beta,bins)\n",
    "plt.xlabel('cm^2')\n",
    "plt.title('new')\n",
    "plt.xscale('log')"
   ]
  },
  {
   "cell_type": "markdown",
   "metadata": {},
   "source": [
    "Original and new distributions of $n\\dfrac{d\\sigma}{d\\cos\\beta}$.  Our new distribution reaches lower values because the form factor drastically surpresses interactions with large momentum transfers"
   ]
  },
  {
   "cell_type": "code",
   "execution_count": null,
   "metadata": {},
   "outputs": [],
   "source": [
    "qs = np.sqrt(ts)\n",
    "q_fm = 1/197.3 * qs\n",
    "bins = np.logspace(-4,2,50)\n",
    "plt.hist(q_fm,bins)\n",
    "plt.xscale('log')"
   ]
  },
  {
   "cell_type": "markdown",
   "metadata": {},
   "source": [
    "## Calculating the Electron Density"
   ]
  },
  {
   "cell_type": "markdown",
   "metadata": {},
   "source": [
    "We have a function that calculates the distance a neutrino has traveled through a mass density.  However, since we are intereste in neutrino oscillations, what we really want is the the electron density, which can be given as"
   ]
  },
  {
   "cell_type": "markdown",
   "metadata": {},
   "source": [
    "$n(e) = \\sum_Z \\dfrac{\\rho m(Z) Z N_A}{A_Z}$"
   ]
  },
  {
   "cell_type": "code",
   "execution_count": null,
   "metadata": {},
   "outputs": [],
   "source": [
    "def Electron_Densities(Earth_Compositon_Dict):\n",
    "    '''\n",
    "    This function takes the Earth_Composition_Dict Dictionary as an input.\n",
    "    It will return an array of electron densities and a corresponding array\n",
    "    of radii that can be used as the inputs for Discrete_One_D_Density_Profile\n",
    "    '''\n",
    "    #Initialize our arrays\n",
    "    E_Comp_Keys = Earth_Composition_Dict.keys()\n",
    "    layer_radii = np.zeros(len(E_Comp_Keys))\n",
    "    layer_e_densities = np.zeros(len(E_Comp_Keys))\n",
    "    \n",
    "    #Iterate through the layers of the Earth\n",
    "    list_index = 0\n",
    "    for E_Key in E_Comp_Keys:\n",
    "        #Find the outer radius and density of each layer\n",
    "        layer_radii[list_index] = Earth_Composition_Dict[E_Key]['radii'][1]\n",
    "        density = Earth_Composition_Dict[E_Key]['density']\n",
    "        \n",
    "        #Iterate through the composition of the layer\n",
    "        for nuc_index in range(len(Earth_Composition_Dict[E_Key][\"comp\"])):\n",
    "            nucleus = Earth_Composition_Dict[E_Key][\"comp\"][nuc_index]\n",
    "            mass_frac = Earth_Composition_Dict[E_Key][\"frac\"][nuc_index]\n",
    "            #Record the atomic number and atomic mass\n",
    "            Zed_str, A_str = nucleus.split(' ')\n",
    "            Zed, A = int(Zed_str), int(A_str)\n",
    "            #print('z/A',Zed/A)\n",
    "            #Add this contribution to the electron density\n",
    "            layer_e_densities[list_index] += density*mass_frac*Zed*6.022e23/A\n",
    "        list_index += 1\n",
    "\n",
    "    return(layer_radii,layer_e_densities)"
   ]
  },
  {
   "cell_type": "code",
   "execution_count": null,
   "metadata": {},
   "outputs": [],
   "source": [
    "layer_radii,layer_e_densities = Electron_Densities(Earth_Composition_Dict)\n",
    "rho_s, distances, tot_distances = Discrete_One_D_Density_Profile(x_vect_vals,v_in_hats,layer_radii,layer_e_densities,R_Earth)\n",
    "\n",
    "fig = plt.figure(figsize = (8,6))\n",
    "for i in range(1):\n",
    "    plt.scatter(distances[i,:],rho_s)\n",
    "    plt.xlabel('total distance traveled (cm)')\n",
    "    plt.ylabel('electron density (cm^-3)')"
   ]
  },
  {
   "cell_type": "markdown",
   "metadata": {},
   "source": [
    "Fig. Scatter plot showing the distance traveled in each layer of the Earth, and the electron density in each layer."
   ]
  },
  {
   "cell_type": "markdown",
   "metadata": {},
   "source": [
    "## Working with NuFlux"
   ]
  },
  {
   "cell_type": "code",
   "execution_count": null,
   "metadata": {},
   "outputs": [],
   "source": [
    "import nuflux\n",
    "flux2 = nuflux.makeFlux('H3a_SIBYLL23C')\n",
    "nu_e_type = nuflux.NuE\n",
    "nu_e_bar_type = nuflux.NuEBar\n",
    "nu_mu_type = nuflux.NuMu\n",
    "nu_mu_bar_type = nuflux.NuMuBar\n",
    "\n",
    "fluxes = (flux2.getFlux(nu_e_type,0.09,1)+flux2.getFlux(nu_e_bar_type,0.09,1)+\n",
    "          flux2.getFlux(nu_mu_type,0.09,1) + flux2.getFlux(nu_mu_bar_type,0.09,1))\n",
    "print(fluxes)\n"
   ]
  },
  {
   "cell_type": "code",
   "execution_count": null,
   "metadata": {},
   "outputs": [],
   "source": [
    "flux2.getFlux(nu_e_bar_type,0.1,1)"
   ]
  },
  {
   "cell_type": "markdown",
   "metadata": {},
   "source": [
    "## Energy and Angle distribution of photons"
   ]
  },
  {
   "cell_type": "markdown",
   "metadata": {},
   "source": [
    "We would detect the decays of these Heavy Neutral Leptons by the photon decay product.  We know that in the rest frame of the lepton, the decays go as"
   ]
  },
  {
   "cell_type": "markdown",
   "metadata": {},
   "source": [
    "$\\dfrac{d\\Gamma}{d\\cos(\\zeta^{'})} \\propto 1 + \\alpha \\cos(\\zeta^{'}) \\quad \\alpha_{Majoranna} = 0 \\quad \\alpha_{Dirac} \\in [-1,1]$"
   ]
  },
  {
   "cell_type": "markdown",
   "metadata": {},
   "source": [
    "Where $\\zeta^{'}$ is the angle between the leptons direction of travel and the emitted photon direction in the rest frame.  To select these angles, let $X \\sim U[0,1]$ and \n",
    "\n",
    "$\\cos(\\zeta^{'}) = \\dfrac{-1 + \\sqrt{1 - \\alpha (2 - \\alpha - 4 X)}}{\\alpha} \\quad \\alpha \\neq 0 \\quad ; \\quad \\cos(\\zeta^{'}) \\sim U[-1,1] \\quad \\alpha = 0$"
   ]
  },
  {
   "cell_type": "code",
   "execution_count": 20,
   "metadata": {},
   "outputs": [
    {
     "data": {
      "text/plain": [
       "(array([ 9920.,  9909.,  9982.,  9924., 10091.,  9963., 10046., 10061.,\n",
       "        10190.,  9914.]),\n",
       " array([-9.99965777e-01, -7.99970052e-01, -5.99974327e-01, -3.99978602e-01,\n",
       "        -1.99982877e-01,  1.28485174e-05,  2.00008574e-01,  4.00004299e-01,\n",
       "         6.00000024e-01,  7.99995749e-01,  9.99991474e-01]),\n",
       " <BarContainer object of 10 artists>)"
      ]
     },
     "execution_count": 20,
     "metadata": {},
     "output_type": "execute_result"
    },
    {
     "data": {
      "image/png": "[encoded data removed]",
      "text/plain": [
       "<Figure size 432x288 with 1 Axes>"
      ]
     },
     "metadata": {
      "needs_background": "light"
     },
     "output_type": "display_data"
    }
   ],
   "source": [
    "alpha_decay = 0\n",
    "cdfs = rand.rand(Num_Events) #Random number to run from 0 to 1\n",
    "if alpha_decay != 0:\n",
    "    cos_zetas_rest = (-1 + np.sqrt(1 - alpha_decay*(2-alpha_decay -4*cdfs)))/(alpha_decay)\n",
    "else:\n",
    "    cos_zetas_rest = 2*rand.rand(len(cdfs)) - 1\n",
    "\n",
    "zetas_rest = np.arccos(cos_zetas_rest)\n",
    "fig1 = plt.figure(figsize = (6,4))\n",
    "plt.xlabel(\"$\\cos(\\zeta^{'})$\",fontsize = 12)\n",
    "plt.ylabel('count', fontsize = 12)\n",
    "plt.hist(cos_zetas_rest)"
   ]
  },
  {
   "cell_type": "markdown",
   "metadata": {},
   "source": [
    "Fig. Histogram of $\\cos(\\zeta^{'})$, the angle in the rest frame of the lepton"
   ]
  },
  {
   "cell_type": "markdown",
   "metadata": {},
   "source": [
    "If the lepton is traveling in the x direction, then the rest frame energy and momentum of the photon is"
   ]
  },
  {
   "cell_type": "markdown",
   "metadata": {},
   "source": [
    "$E^{'}_{\\gamma} = m_N/2 \\quad ; \\quad \\overrightarrow{p^{'}_{\\gamma}} = (\\dfrac{m_N}{2} cos(\\zeta^{'}), \\dfrac{m_N}{2} sin(\\zeta^{'}),0)$"
   ]
  },
  {
   "cell_type": "markdown",
   "metadata": {},
   "source": [
    "If we transform to the lab frame $\\bigg(\\, \\gamma = E_N/m_N, \\beta = \\sqrt{1-\\dfrac{m_N^2}{E_N^2}} \\bigg )\\,$ then we find"
   ]
  },
  {
   "cell_type": "markdown",
   "metadata": {},
   "source": [
    "$E_{gamma} = \\dfrac{E_N}{2} \\left(\\, 1 + \\sqrt{1-\\dfrac{m_N^2}{E_N^2}} \\cos(\\zeta^{'}) \\right)\\, \\quad ; \\quad \\overrightarrow{p_{\\gamma}} = \\left (\\, \\dfrac{E_N}{2} \\bigg (\\,\\sqrt{1 - \\dfrac{m_N^2}{E_N^2}} + \\cos(\\zeta^{'}) \\bigg )\\, , \\dfrac{m_N}{2} \\sin(\\zeta^{'}) , 0 \\right )\\, $"
   ]
  },
  {
   "cell_type": "markdown",
   "metadata": {},
   "source": [
    "We can now define the angle between the lepton direction and photon direction in the lab frame"
   ]
  },
  {
   "cell_type": "markdown",
   "metadata": {},
   "source": [
    "$\\tan(\\zeta) = \\dfrac{m_N}{E_N} \\dfrac{\\sin(\\zeta^{'})}{\\cos(\\zeta^{'}) + \\sqrt{1-\\dfrac{m_N^2}{E_N^2}}} $"
   ]
  },
  {
   "cell_type": "code",
   "execution_count": 21,
   "metadata": {},
   "outputs": [
    {
     "data": {
      "text/plain": [
       "Text(0, 0.5, 'Count')"
      ]
     },
     "execution_count": 21,
     "metadata": {},
     "output_type": "execute_result"
    },
    {
     "data": {
      "image/png": "[encoded data removed]",
      "text/plain": [
       "<Figure size 432x288 with 1 Axes>"
      ]
     },
     "metadata": {
      "needs_background": "light"
     },
     "output_type": "display_data"
    },
    {
     "data": {
      "image/png": "[encoded data removed]",
      "text/plain": [
       "<Figure size 432x288 with 1 Axes>"
      ]
     },
     "metadata": {
      "needs_background": "light"
     },
     "output_type": "display_data"
    }
   ],
   "source": [
    "E_gammas = Energies/2 * (1+ np.sqrt(1 - mn**2/Energies**2) * cos_zetas_rest) #Photon Energies in the lab frame\n",
    "tan_zetas_lab = mn/Energies * sin(zetas_rest)/ (cos_zetas_rest + np.sqrt(1 - mn**2/Energies**2)) \n",
    "zetas_lab = np.arctan(tan_zetas_lab) + pi*np.heaviside(-tan_zetas_lab,0) #Angles of the photons in the lab frame\n",
    "\n",
    "fig1 = plt.figure(figsize = (6,4))\n",
    "out_vals = plt.hist(E_gammas)\n",
    "plt.xlabel('Photon Energies (GeV)',fontsize = 12)\n",
    "plt.ylabel('Count', fontsize =12)\n",
    "\n",
    "fig2 = plt.figure(figsize = (6,4))\n",
    "out_vals = plt.hist(cos(zetas_lab))\n",
    "plt.xlabel('$\\cos(\\zeta)$',fontsize = 12)\n",
    "plt.ylabel(\"Count\", fontsize = 12)"
   ]
  },
  {
   "cell_type": "markdown",
   "metadata": {},
   "source": [
    "At Super-K, events are binned based on $\\cos(\\theta_z) = \\hat{v_{\\gamma}} \\cdot \\hat{v_{up}}$ where $\\hat{v_{\\gamma}}$ is the direction of travel for the photon and $\\hat{v_{up}} = (0,0,1)$ in our coordinate system.  In defining $\\hat{v_{\\gamma}}$ we will use $\\zeta$ and $psi \\sim U[0,2\\pi]$ such that\n",
    "\n",
    "$\\hat{v_{\\gamma}} = \\hat{v_{in}}\\cos\\zeta + \\hat{v_{\\perp1}}\\sin\\zeta\\cos\\psi + \\hat{v_{\\perp2}}\\sin\\zeta\\sin\\psi$\n",
    "\n",
    "Where $\\hat{v_{in}}$,$\\hat{v_{\\perp1}}$, and $\\hat{v_{\\perp2}}$ are all mutually orthogonal. Initial definition of the two new vectors is arbitrary, so we shall let\n",
    "\n",
    "$\\dfrac{\\hat{v_{up}} \\times \\hat{v_{in}}}{|\\hat{v_{up}} \\times \\hat{v_{in}}|} = \\hat{v_{\\perp1}}$\n",
    "\n",
    "$\\hat{v_{in}} \\times \\hat{v_{\\perp1}} = \\hat{v_{\\perp2}}$"
   ]
  },
  {
   "cell_type": "code",
   "execution_count": 22,
   "metadata": {},
   "outputs": [],
   "source": [
    "#Initialize the perpendicular unit vectors\n",
    "v_perp_1_hats = np.zeros((Num_Events,3))\n",
    "v_perp_2_hats = np.zeros((Num_Events,3))\n",
    "#Caluclate the cross product of x and v_out\n",
    "v_up_cross_v_in = np.zeros((Num_Events,3))\n",
    "v_up_cross_v_in[:,0] =  - 1*v_in_hats[:,1]\n",
    "v_up_cross_v_in[:,1] = x_vect_vals[:,2]*v_in_hats[:,0]\n",
    "v_up_cross_v_in[:,2] = 0\n",
    "v_up_cross_v_in_mag = np.sqrt(x_vect_cross_v_out[:,0]**2 + x_vect_cross_v_out[:,1]**2 + x_vect_cross_v_out[:,2]**2)\n",
    "\n",
    "v_perp_1_hats[:,0] = v_up_cross_v_in[:,0]/v_up_cross_v_in_mag\n",
    "v_perp_1_hats[:,1] = v_up_cross_v_in[:,1]/v_up_cross_v_in_mag\n",
    "v_perp_1_hats[:,2] = v_up_cross_v_in[:,2]/v_up_cross_v_in_mag\n",
    "\n",
    "#Calculate the second perpendicular component\n",
    "v_perp_2_hats[:,0] = (v_in_hats[:,1]*v_perp_1_hats[:,2] - v_in_hats[:,2]*v_perp_1_hats[:,1])\n",
    "v_perp_2_hats[:,1] = (v_in_hats[:,2]*v_perp_1_hats[:,0] - v_in_hats[:,0]*v_perp_1_hats[:,2])\n",
    "v_perp_2_hats[:,2] = (v_in_hats[:,0]*v_perp_1_hats[:,1] - v_in_hats[:,1]*v_perp_1_hats[:,0])\n",
    "\n",
    "\n",
    "#Randomly select a psi, and return out v_gamma vectors\n",
    "psis = 2*pi*rand.rand(Num_Events)\n",
    "v_gamma_hats = np.zeros((Num_Events,3))\n",
    "v_gamma_hats[:,0] = v_in_hats[:,0]*cos(zetas_lab) + v_perp_1_hats[:,0]*sin(zetas_lab)*cos(psis) + v_perp_2_hats[:,0]*sin(zetas_lab)*sin(psis)\n",
    "v_gamma_hats[:,1] = v_in_hats[:,1]*cos(zetas_lab) + v_perp_1_hats[:,1]*sin(zetas_lab)*cos(psis) + v_perp_2_hats[:,1]*sin(zetas_lab)*sin(psis)\n",
    "v_gamma_hats[:,2] = v_in_hats[:,2]*cos(zetas_lab) + v_perp_1_hats[:,2]*sin(zetas_lab)*cos(psis) + v_perp_2_hats[:,2]*sin(zetas_lab)*sin(psis)"
   ]
  },
  {
   "cell_type": "code",
   "execution_count": 23,
   "metadata": {},
   "outputs": [
    {
     "data": {
      "text/plain": [
       "Text(0.5, 1.0, 'Angle of photons relative to zenith of the detector')"
      ]
     },
     "execution_count": 23,
     "metadata": {},
     "output_type": "execute_result"
    },
    {
     "data": {
      "image/png": "[encoded data removed]",
      "text/plain": [
       "<Figure size 504x360 with 1 Axes>"
      ]
     },
     "metadata": {
      "needs_background": "light"
     },
     "output_type": "display_data"
    }
   ],
   "source": [
    "#Find the cosine of the zenith angles relative to the detector\n",
    "cos_det_zeniths = v_gamma_hats[:,2]\n",
    "\n",
    "fig = plt.figure(figsize = (7,5))\n",
    "plt.hist(cos_det_zeniths)\n",
    "plt.xlabel('$\\cos(\\\\theta_z)$')\n",
    "plt.ylabel('count')\n",
    "plt.title('Angle of photons relative to zenith of the detector')"
   ]
  },
  {
   "cell_type": "markdown",
   "metadata": {},
   "source": [
    "We would now like to bin our events based on the energy of the photon and $\\cos(\\theta_z)$ and find the expected rate in each bin.  To do that\n",
    "\n",
    "$dR(E_i,\\cos(\\theta_{z})_j) = A_{\\perp}\\dfrac{d\\sigma}{d\\cos\\beta} n(\\overrightarrow{x})\\big(\\,4\\pi\\Phi(E_{\\nu},\\cos(\\phi_{zenith}))\\big)\\, \\dfrac{P_{dec}(\\overrightarrow{v_{out}},\\lambda)}{4\\pi |\\overrightarrow{v_{out}}|^2} dV dE_{\\nu} d\\cos\\beta \\quad E_{gamma} \\in [E_{i,min}, E_{i,max}] \\quad \\cos(\\theta_z) \\in [\\cos(\\theta_{z})_{j,min}, \\cos(\\theta_{z})_{j,max}] $"
   ]
  },
  {
   "cell_type": "markdown",
   "metadata": {},
   "source": [
    "The Super-K detector uses 5 momentum (= energy for photons) bins for events below 1.3 GeV, and 10 $\\cos(\\theta_z)$ bins in the range $[-1,1]$"
   ]
  },
  {
   "cell_type": "code",
   "execution_count": 24,
   "metadata": {},
   "outputs": [],
   "source": [
    "Energy_ranges = np.linspace(0,1.3,6) #Edges of the Energy Bins (GeV)\n",
    "Energy_midpoints = (Energy_ranges[0:-1] + Energy_ranges[1:])/2\n",
    "\n",
    "cos_det_z_ranges = np.linspace(-1,1,11) #Edges of the cos(theta_z) bins\n",
    "cos_det_z_midpoints = (cos_det_z_ranges[0:-1] + cos_det_z_ranges[1:])/2\n",
    "\n",
    "Rates = np.zeros((len(Energy_midpoints),len(cos_det_z_midpoints)))\n",
    "\n",
    "#Define Differentials to account for preferential sampling\n",
    "#New differential for volume\n",
    "dVs = interaction_volumes/(Num_Events)**(1/3)  #Differential Volume (cm^3)\n",
    "\n",
    "#New differential for energy\n",
    "char_Energy = np.sqrt(min_E*max_E)   #Characteristic Energy (GeV)\n",
    "dEs = ((max_E- min_E)/Num_Events**(1/3)) * (Energies/char_Energy)**2 #Differential energies (GeV)\n",
    "\n",
    "#New differential for cos(beta)\n",
    "A_char = (A_max - A_min)/np.log(A_max/A_min)\n",
    "d_cos_betas = (2/Num_Events**(1/3))*((1-cos_betas)/A_char)\n",
    "A_perp = 30 * (100)**2 #Area in cm^2\n",
    "\n",
    "#Find the differential rate for each event\n",
    "dRs = A_perp * d_sigmas_d_cos_beta * num_densities * fluxes *4*pi* (P_decs/(4*pi*v_out_mags**2)) * dVs * dEs * d_cos_betas\n",
    "\n",
    "#Iterate through energies\n",
    "for E_index in range(len(Energy_midpoints)):\n",
    "    #Define the minimum and maximum energy in each bin\n",
    "    E_bin_min = Energy_ranges[E_index]\n",
    "    E_bin_max = Energy_ranges[E_index + 1]\n",
    "    #Create a vector for the events with photon energies in this range\n",
    "    E_acceptance = np.heaviside(E_gammas - E_bin_min,1) * np.heaviside(E_bin_max - E_gammas, 0)\n",
    "    \n",
    "    #Iterate through cosines of the zenith angle\n",
    "    for cos_index in range((len(cos_det_z_midpoints))):\n",
    "        #Define the min and max cosine value in each bin\n",
    "        cos_bin_min = cos_det_z_ranges[cos_index]\n",
    "        cos_bin_max = cos_det_z_ranges[cos_index + 1]\n",
    "        #Create a vector for the events with zenith angles in this range\n",
    "        cos_acceptance = np.heaviside(cos_det_zeniths - cos_bin_min,1) * np.heaviside(cos_bin_max - cos_det_zeniths,0)\n",
    "\n",
    "        #Find the rate in each bin\n",
    "        \n",
    "        R = sum(dRs*E_acceptance*cos_acceptance)\n",
    "        Rates[E_index,cos_index] = R"
   ]
  },
  {
   "cell_type": "code",
   "execution_count": 25,
   "metadata": {},
   "outputs": [
    {
     "data": {
      "text/plain": [
       "Text(0.5, 1.0, 'Total events in each bin for 12 years, $m_N$ =0.01GeV, d = 1e-09MeV^-1')"
      ]
     },
     "execution_count": 25,
     "metadata": {},
     "output_type": "execute_result"
    },
    {
     "data": {
      "image/png": "[encoded data removed]",
      "text/plain": [
       "<Figure size 576x432 with 2 Axes>"
      ]
     },
     "metadata": {
      "needs_background": "light"
     },
     "output_type": "display_data"
    }
   ],
   "source": [
    "figk, ax = plt.subplots(1,1,figsize = (8,6))\n",
    "#levels = np.logspace(-3,3,20)\n",
    "cp = ax.contourf(cos_det_z_midpoints,Energy_midpoints,Rates*86400*365*12)# levels,locator = ticker.LogLocator(),cmap = cm.PuBu_r)\n",
    "\n",
    "figk.colorbar(cp)\n",
    "plt.ylabel('Energy (GeV)')\n",
    "plt.xlabel('$\\cos(\\\\theta_z)$')\n",
    "plt.title('Total events in each bin for 12 years, $m_N$ ='+str(mn)+\"GeV, d = \"+str(d)+\"MeV^-1\")"
   ]
  },
  {
   "cell_type": "code",
   "execution_count": 27,
   "metadata": {},
   "outputs": [
    {
     "name": "stdout",
     "output_type": "stream",
     "text": [
      "Events in each cos(theta_z bin) [ 1.85111819  2.69285638  1.3227447   2.6357438   3.82267301 39.25025855\n",
      " 34.44011578 34.4801098  39.73086506 70.30257294]\n"
     ]
    }
   ],
   "source": [
    "print('Events in each cos(theta_z bin)',sum(Rates*86400*365*12))"
   ]
  },
  {
   "cell_type": "code",
   "execution_count": null,
   "metadata": {},
   "outputs": [],
   "source": []
  }
 ],
 "metadata": {
  "kernelspec": {
   "display_name": "Python 3",
   "language": "python",
   "name": "python3"
  },
  "language_info": {
   "codemirror_mode": {
    "name": "ipython",
    "version": 3
   },
   "file_extension": ".py",
   "mimetype": "text/x-python",
   "name": "python",
   "nbconvert_exporter": "python",
   "pygments_lexer": "ipython3",
   "version": "3.9.0"
  }
 },
 "nbformat": 4,
 "nbformat_minor": 5
}
