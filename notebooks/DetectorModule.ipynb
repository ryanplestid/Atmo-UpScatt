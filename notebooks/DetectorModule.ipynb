{
 "cells": [
  {
   "cell_type": "code",
   "execution_count": 2,
   "id": "00209b8c-c1d0-4668-9c8a-71bf1d352a66",
   "metadata": {},
   "outputs": [],
   "source": [
    "#Initialization\n",
    "import numpy as np #Package for array functions\n",
    "from numpy import random as rand\n",
    "from numpy import sin, cos\n",
    "from numpy import pi"
   ]
  },
  {
   "cell_type": "markdown",
   "id": "25615b41-4d1b-4982-8433-106e87aa12fb",
   "metadata": {},
   "source": [
    "We would detect the decays of these Heavy Neutral Leptons by the photon decay product.  We know that in the rest frame of the lepton, the decays go as\n",
    "\n",
    "$\\dfrac{d\\Gamma}{d\\cos(\\zeta^{'})} \\propto 1 + \\alpha \\cos(\\zeta^{'}) \\quad \\alpha_{Majoranna} = 0 \\quad \\alpha_{Dirac} \\in [-1,1]$\n",
    "\n",
    "Where $\\zeta^{'}$ is the angle between the leptons direction of travel and the emitted photon direction in the rest frame.  To select these angles, let $\\chi \\sim U[0,1]$ and \n",
    "\n",
    "$\\cos(\\zeta^{'}) = \\dfrac{-1 + \\sqrt{1 - \\alpha (2 - \\alpha - 4 \\chi)}}{\\alpha} \\quad \\alpha \\neq 0 \\quad ; \\quad \\cos(\\zeta^{'}) \\sim U[-1,1] \\quad \\alpha = 0$"
   ]
  },
  {
   "cell_type": "code",
   "execution_count": 2,
   "id": "462dc9c7-a2fc-4d5d-91cc-dc9e01890e21",
   "metadata": {},
   "outputs": [],
   "source": [
    "def Calc_cos_zeta_prime(num_events,alpha_decay):\n",
    "    '''\n",
    "    Returns the cosine of the angle between the lepton and\n",
    "    decay photon in the rest frame.\n",
    "    \n",
    "    args:\n",
    "        num_events: number of angles that we wish to sample (int)\n",
    "        alpha_decay: value of alpha determining if the lepton is a\n",
    "                    Dirac or Majoranna particle [-1,1] (float)\n",
    "    \n",
    "    returns:\n",
    "        cos_zeta_primes: array of the cosines of the angles between\n",
    "                    the lepton direction of travel and photon direction\n",
    "                    in the rest frame\n",
    "    '''\n",
    "    #Sample uniformly if alpha = 0\n",
    "    if alpha_decay == 0:\n",
    "        cos_zeta_primes = 2*rand.rand(num_events) -1\n",
    "        return(cos_zeta_primes)\n",
    "    \n",
    "    #Sample according to the correct distribution if alpha !=0\n",
    "    chi = rand.rand(num_events)\n",
    "    cos_zeta_primes = (1/alpha_decay)* (-1+ np.sqrt(1-alpha_decay*(2-alpha_decay-4*chi)))\n",
    "    \n",
    "    return(cos_zeta_primes)"
   ]
  },
  {
   "cell_type": "markdown",
   "id": "c40e9217-28c6-4770-bb29-e73311b02574",
   "metadata": {},
   "source": [
    "If the lepton is traveling in the x direction, then the rest frame energy and momentum of the photon is"
   ]
  },
  {
   "cell_type": "markdown",
   "id": "14ce01fd-3b75-47de-9675-9ab73a281ff9",
   "metadata": {},
   "source": [
    "$E^{'}_{\\gamma} = m_N/2 \\quad ; \\quad \\overrightarrow{p^{'}_{\\gamma}} = (\\dfrac{m_N}{2} cos(\\zeta^{'}), \\dfrac{m_N}{2} sin(\\zeta^{'}),0)$"
   ]
  },
  {
   "cell_type": "markdown",
   "id": "a6d73c49-d7af-49e9-9ad6-e03cb75d92b5",
   "metadata": {},
   "source": [
    "If we transform to the lab frame $\\bigg(\\, \\gamma = E_N/m_N, \\beta = \\sqrt{1-\\dfrac{m_N^2}{E_N^2}} \\bigg )\\,$ then we find"
   ]
  },
  {
   "cell_type": "markdown",
   "id": "e0107fd1-e882-4311-8187-99006a320949",
   "metadata": {},
   "source": [
    "$E_{\\gamma} = \\dfrac{E_N}{2} \\left(\\, 1 + \\sqrt{1-\\dfrac{m_N^2}{E_N^2}} \\cos(\\zeta^{'}) \\right)\\, \\quad ; \\quad \\overrightarrow{p_{\\gamma}} = \\left (\\, \\dfrac{E_N}{2} \\bigg (\\,\\sqrt{1 - \\dfrac{m_N^2}{E_N^2}} + \\cos(\\zeta^{'}) \\bigg )\\, , \\dfrac{m_N}{2} \\sin(\\zeta^{'}) , 0 \\right )\\, $"
   ]
  },
  {
   "cell_type": "markdown",
   "id": "b7db92b2-b431-42c2-972c-2f3c58d666b2",
   "metadata": {},
   "source": [
    "We can now define the angle between the lepton direction and photon direction in the lab frame"
   ]
  },
  {
   "cell_type": "markdown",
   "id": "3d38411d-4659-4c8d-9727-78622adc4b59",
   "metadata": {},
   "source": [
    "$\\tan(\\zeta) = \\dfrac{m_N}{E_N} \\dfrac{\\sin(\\zeta^{'})}{\\cos(\\zeta^{'}) + \\sqrt{1-\\dfrac{m_N^2}{E_N^2}}} $"
   ]
  },
  {
   "cell_type": "code",
   "execution_count": 9,
   "id": "bbcbe9f8-c175-4e85-9c7d-b1badeee68ca",
   "metadata": {},
   "outputs": [],
   "source": [
    "def Calc_Zetas_and_Energies(cos_zeta_prime,En,mn):\n",
    "    '''\n",
    "    Calculates the angle and energy of the photons in the\n",
    "    lab frame\n",
    "    \n",
    "    args:\n",
    "        cos_zeta_prime: cosine of the angle between photon and lepton \n",
    "                    directions in the rest frame (float or array of floats)\n",
    "        En: Energies of leptons in GeV (float, same size as cos_zeta_prime)\n",
    "        mn: Mass of the heavy neutral lepton in GeV (float)\n",
    "    \n",
    "    returns:\n",
    "        zeta: angle between the lepton and photon directions in\n",
    "            the lab frame (float, same size as En)\n",
    "        E_gamma: Energy of the photon in the lab frame in GeV\n",
    "                (float, same size as En)\n",
    "    '''\n",
    "    #Calculate the sine of zeta prime\n",
    "    sin_zeta_prime = np.sqrt(1-cos_zeta_prime**2)\n",
    "    \n",
    "    #Calculate the tangent of zeta\n",
    "    tan_zeta = (mn/En) * sin_zeta_prime/ (cos_zeta_prime + np.sqrt(1 - mn**2/En**2))\n",
    "    \n",
    "    #Get zetas from tan(zeta), make sure it's in the right quadrant\n",
    "    zeta = (np.arctan(tan_zeta) + pi*np.heaviside(-tan_zeta,0) \n",
    "            + pi * np.heaviside(-cos_zeta_prime - 1,1))\n",
    "    \n",
    "    #Calculate the Energy of the photon in the lab frame\n",
    "    E_gamma = (En/2) * (1+np.sqrt(1 - mn**2/En**2)*cos_zeta_prime)\n",
    "    \n",
    "    return(zeta, E_gamma)"
   ]
  },
  {
   "cell_type": "markdown",
   "id": "a47590ed-5e34-44b7-a477-6302ab82f2b5",
   "metadata": {},
   "source": [
    "To find the direction of the photon, let $\\psi \\sim U[0,2\\pi]$ and let $\\hat{v_1}$ and $\\hat{v_2}$ be unit vectors orthogonal to each other and $\\textbf{Y} - \\textbf{X}$.  Then\n",
    "\n",
    "$\\hat{v_{\\gamma}} = \\dfrac{\\textbf{Y} - \\textbf{X}}{|\\textbf{Y} - \\textbf{X}|} \\cos(\\zeta) + \\hat{v_1}\\sin(\\zeta)\\cos(\\psi) + \\hat{v_2}\\sin(\\zeta) \\sin(\\psi)$\n",
    "\n",
    "The choice of $\\hat{v_1}$ and $\\hat{v_2}$ is arbitrary as long as the vectors satisfy the orthonomality requirement.  To make things simpler\n",
    "\n",
    "$\\hat{v_1} = \\dfrac{(\\textbf{Y} - \\textbf{X})\\times -\\textbf{Y}}{|(\\textbf{Y} - \\textbf{X})\\times -\\textbf{Y}|} = \\dfrac{\\textbf{X} \\times \\textbf{Y}}{|\\textbf{X} \\times \\textbf{Y}|}$\n",
    "\n",
    "Then\n",
    "\n",
    "$\\hat{v_2} = \\dfrac{\\textbf{Y} - \\textbf{X}}{|\\textbf{Y} - \\textbf{X}|} \\times \\hat{v_1} = \\dfrac{\\textbf{Y} \\times (\\textbf{X} \\times \\textbf{Y}) - \\textbf{X} \\times (\\textbf{X} \\times \\textbf{Y})}{|\\textbf{X} \\times \\textbf{Y}| |\\textbf{Y} - \\textbf{X}|}$"
   ]
  },
  {
   "cell_type": "markdown",
   "id": "f3766b58-1d5d-4d9a-8f85-b424dcf95730",
   "metadata": {},
   "source": [
    "The angle of the photon relative to the zenith of the detector ($\\phi_{det}$) is given as\n",
    "\n",
    "$\\cos(\\phi_{det}) = \\hat{v_{\\gamma}} \\cdot \\dfrac{\\textbf{Y}}{|\\textbf{Y}|}$ \n",
    "\n",
    "$\\cos(\\phi_{det}) = \\dfrac{|\\textbf{Y}|^2 - \\textbf{Y} \\cdot \\textbf{X}}{|\\textbf{Y}||\\textbf{Y}- \\textbf{X}|} \\cos(\\zeta) + \\dfrac{-\\textbf{Y} \\cdot \\big(\\, \\textbf{X} \\times (\\textbf{X} \\times \\textbf{Y}) \\big )\\,}{|\\textbf{Y}| |\\textbf{X} \\times \\textbf{Y}| |\\textbf{Y} - \\textbf{X}|}\\sin(\\zeta)\\sin(\\psi)$\n",
    "\n",
    "$\\cos(\\phi_{det}) = \\dfrac{|\\textbf{Y}|^2 - \\textbf{Y} \\cdot \\textbf{X}}{|\\textbf{Y}||\\textbf{Y}- \\textbf{X}|} \\cos(\\zeta) + \\dfrac{|\\textbf{X}|^2 |\\textbf{Y}|^2 - (\\textbf{X}\\cdot\\textbf{Y})^2}{|\\textbf{Y}| |\\textbf{X} \\times \\textbf{Y}| |\\textbf{Y} - \\textbf{X}|}\\sin(\\zeta)\\sin(\\psi)$"
   ]
  },
  {
   "cell_type": "code",
   "execution_count": null,
   "id": "fa345c9d-5f28-4f70-a429-6c280cc03222",
   "metadata": {},
   "outputs": [],
   "source": [
    "def Calc_cos_phi_det(Y, X, zeta):\n",
    "    '''\n",
    "    Calculates the cosine of the angle between the photon direction and the zenith of the detector\n",
    "    \n",
    "    args:\n",
    "        Y: 3 element array of the cartesian coordinates of the detector in cm\n",
    "        X: n-by-3 array of the Cartesian coordinates of the n neutrino\n",
    "            interaction positions in cm\n",
    "        zeta: array of n floats for the scattering angle of the photons in the lab frame\n",
    "        \n",
    "    returns:\n",
    "        cos_phi_det: cosine of the angle between the photon direction and zenith angle of the detector\n",
    "    '''\n",
    "    psis = 2*pi*rand.rand(len(zeta))\n",
    "    \n",
    "    Y_mag = np.sqrt(np.dot(Y, Y))\n",
    "    \n",
    "    \n",
    "    X_mag = np.sqrt(X[:,0]**2 + X[:,1]**2 + X[:,2]**2)\n",
    "    \n",
    "    Y_minus_X_mag = np.sqrt((Y[0] - X[:,0])**2 + (Y[1] - X[:,1])**2 + (Y[2] - X[:,2])**2)\n",
    "    \n",
    "    X_cross_Y = np.cross(X,Y)\n",
    "    \n",
    "    X_cross_Y_mag = np.sqrt(X_cross_Y[:,0]**2 + X_cross_Y[:,1]**2 + X_cross_Y[:,2]**2)\n",
    "    \n",
    "    Y_dot_X = Y[0]*X[:,0] + Y[1]*X[:,1] + Y[2]*X[:,2]\n",
    "    \n",
    "    first_term = (Y_mag**2 - Y_dot_X)/(Y_mag*Y_minus_X_mag)\n",
    "    second_term = (X_mag**2 * Y_mag**2 - Y_dot_X**2)/(Y_mag * X_cross_Y_mag * Y_minus_X_mag)\n",
    "\n",
    "    \n",
    "    cos_phi_det = first_term* cos(zeta) + second_term*sin(zeta)*sin(psis)\n",
    "    \n",
    "    return(cos_phi_det)"
   ]
  },
  {
   "cell_type": "markdown",
   "id": "1689ce00-4df3-42a5-a749-929a3ef1cdc1",
   "metadata": {},
   "source": [
    "Now, we wish to calculate the rate of photons expected at each energy and angle, using the same bining process as the detector.  We will find which bin the events belong in using $E_{\\gamma}$ and $\\cos(\\phi_{det})$ and then multiply by $\\Delta R$ as we found earlier."
   ]
  },
  {
   "cell_type": "code",
   "execution_count": null,
   "id": "090e7873-4cd2-487a-948c-100b47cce9e0",
   "metadata": {},
   "outputs": [],
   "source": [
    "def Rate_In_Each_Bin(min_E, max_E, num_E_bins, num_cos_bins, E_gamma, cos_phi_det, dR):\n",
    "    '''\n",
    "    Calculates the rate of photons observed in each detector, binned by\n",
    "        the energies and angles relative to the detector zenith\n",
    "    \n",
    "    args:\n",
    "        min_E: minimum photon energy considered in GeV (float)\n",
    "        max_E: maximum photon energy considered in GeV (float)\n",
    "        num_E_bins: number of bins in energy (int)\n",
    "        num_cos_bins: number of bins in angle (int)\n",
    "        E_gamma: Energies of the photons in GeV (float or array of floats)\n",
    "        cos_phi_det: Cosine of the angle between the photon direction and\n",
    "                the zenith of the detector (float, same size as E_gamma)\n",
    "        dR: rate that the specific event contributes (float, same size as E_gamma)\n",
    "        \n",
    "    returns:\n",
    "        E_midpoints: Midpoints of the energy bins\n",
    "        cos_midpoints: midpoints of the cosines of the angular bins\n",
    "        rates: 2D array of the rates in each bin in s^-1.  First index corresponds \n",
    "            to the energy bin, second index corresponds to the angular bin (float)\n",
    "    '''\n",
    "    \n",
    "    \n",
    "    E_edges = np.linspace(min_E, max_E, num_E_bins + 1)\n",
    "    cos_edges = np.linspace(-1,1, num_cos_bins + 1)\n",
    "    \n",
    "    E_midpoints = (0.5) * (E_edges[0:-1] + E_edges[1:])\n",
    "    cos_midpoints = 0.5 * (cos_edges[0:-1] + cos_edges[1:])\n",
    "    \n",
    "    rates = np.zeros((len(E_midpoints), len(cos_midpoints)))\n",
    "    \n",
    "    for E_index in range(len(E_midpoints)):\n",
    "        upper_E = E_edges[E_index + 1]\n",
    "        lower_E = E_edges[E_index]\n",
    "        for cos_index in range(len(cos_midpoints)):\n",
    "            upper_cos = cos_edges[cos_index + 1]\n",
    "            lower_cos = cos_edges[cos_index]\n",
    "            \n",
    "            rates[E_index,cos_index] = dR *(np.heaviside(E_gamma-lower_E,1) * np.heaviside(upper_E - E_gamma,0)\n",
    "                                            *np.heaviside(cos_phi_det-lower_cos,1) \n",
    "                                            * np.heaviside(upper_cos - cos_phi_det,0))\n",
    "    \n",
    "    return(E_midpoints,cos_midpoints,rates)"
   ]
  }
 ],
 "metadata": {
  "kernelspec": {
   "display_name": "test_env",
   "language": "python",
   "name": "test_env"
  },
  "language_info": {
   "codemirror_mode": {
    "name": "ipython",
    "version": 3
   },
   "file_extension": ".py",
   "mimetype": "text/x-python",
   "name": "python",
   "nbconvert_exporter": "python",
   "pygments_lexer": "ipython3",
   "version": "3.9.5"
  }
 },
 "nbformat": 4,
 "nbformat_minor": 5
}
