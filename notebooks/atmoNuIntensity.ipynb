{
 "cells": [
  {
   "cell_type": "code",
   "execution_count": 1,
   "id": "67e60877-9a80-4e56-9530-6d047b199ca4",
   "metadata": {},
   "outputs": [],
   "source": [
    "import nuflux #Package to accurately determine the flux of neutrinos at different energies and angles\n",
    "import numpy as np #Package for array functions\n",
    "from numpy import pi as pi\n",
    "import scipy as sp\n",
    "from scipy import special as spc\n",
    "from numpy import random as rand\n",
    "from numpy import sin, cos"
   ]
  },
  {
   "cell_type": "markdown",
   "id": "ebf8af13-e6d8-406f-8734-fbfa19d00453",
   "metadata": {},
   "source": [
    "We wish to sample neutrino energies from an arbitrary power-law ($\\rho(E_{\\nu}) \\sim E_{\\nu}^{-\\gamma}$).  To keep this normalized, we use a constant out front\n",
    "\n",
    "$\\int_{E_{min}}^{E_{max}} \\kappa E^{-\\gamma} dE = 1$\n",
    "\n",
    "$\\kappa = \\dfrac{1-\\gamma}{E_{max}^{1-\\gamma} - E_{min}^{1-\\gamma}}$\n",
    "\n",
    "This means that to sample from the cdf, we let $\\chi \\sim U[0,1]$ and then select an energy as\n",
    "\n",
    "$E_{\\nu} = \\bigg (\\, \\dfrac{1-\\gamma}{\\kappa}\\chi + E_{min}^{1-\\gamma} \\bigg )\\,^{\\dfrac{1}{1-\\gamma}} $\n",
    "\n",
    "This works as long as $\\gamma \\neq 1$"
   ]
  },
  {
   "cell_type": "code",
   "execution_count": 2,
   "id": "a606f111-6976-442b-9fb7-a69ae3af68c4",
   "metadata": {},
   "outputs": [],
   "source": [
    "def Sample_Neutrino_Energies(num_Events, E_min, E_max, power_law):\n",
    "    '''\n",
    "    This function samples neutrino energies according to a power law\n",
    "    \n",
    "    args:\n",
    "        num_Events: number of energies we wish to sample (int)\n",
    "        E_min: minimum Energy of our distribution in GeV (float)\n",
    "        E_max: maximum Energy of our distriubtion in GeV (float)\n",
    "        power_law: our distibution follows E^{-power_law} (float)\n",
    "    \n",
    "    returns:\n",
    "        Energies: array of length num_Events with the sampled energies (floats)\n",
    "    '''\n",
    "    kappa = (1 - power_law)/ (E_max**(1-power_law) - E_min**(1-power_law)) #Constant used in sampling\n",
    "    rand_chi = rand.rand(num_Events)  #array of random numbers between 0 and 1\n",
    "    \n",
    "    first_terms = ((1-power_law)/kappa) * rand_chi\n",
    "    second_term = E_min**(1-power_law)\n",
    "    \n",
    "    Energies = (first_terms+second_term)**(1/(1-power_law))\n",
    "    \n",
    "    return(Energies)"
   ]
  },
  {
   "cell_type": "markdown",
   "id": "29e7d93b-0200-4f69-9acd-c551e1c18015",
   "metadata": {},
   "source": [
    "When we perform our integral, we will want to reweight these energies to account for our samplings.  We will find our $dE$ by\n",
    "\n",
    "$dE = \\dfrac{E_{max}-E_{min}}{\\sqrt[3]{n_{events}}} \\bigg (\\, \\dfrac{E_{\\nu}}{E_{char}} \\bigg )\\, ^{\\gamma}$\n",
    "\n",
    "$E_{char} = \\bigg(\\, \\dfrac{(1-\\gamma)(E_{max}-E_{min})}{E_{max}^{1-\\gamma} - E_{min}^{1-\\gamma}} \\bigg)\\, ^{1/\\gamma} $"
   ]
  },
  {
   "cell_type": "code",
   "execution_count": 3,
   "id": "fac89c94-e068-4343-9973-acbdd2ef6d2a",
   "metadata": {},
   "outputs": [],
   "source": [
    "def Calculate_dE(num_Events, Energies, E_min, E_max, power_law):\n",
    "    '''\n",
    "    This function returns the properly weighted values of dE\n",
    "    \n",
    "    args:\n",
    "        num_Events: number of events in our integral(int)\n",
    "        Energies: Neutrino energies of our events (array of floats)\n",
    "        E_min: minimum Energy of our distribution in GeV (float)\n",
    "        E_max: maximum Energy of our distriubtion in GeV (float)\n",
    "        power_law: our distibution follows E^{-power_law} (float)\n",
    "    \n",
    "    returns:\n",
    "        dEs: weighted differentials for calculating the integral\n",
    "            (array of floats, same size as Energies)\n",
    "    '''\n",
    "    num = (1-power_law)*(E_max - E_min)\n",
    "    den = E_max**(1-power_law) - E_min**(1-power_law)\n",
    "    E_char = (num/den)**(1/power_law) #Characteristic Energy\n",
    "    \n",
    "    dEs = (E_max - E_min)/(num_Events**(1/3)) * (Energies/E_char)**power_law\n",
    "    \n",
    "    return(dEs)"
   ]
  },
  {
   "cell_type": "markdown",
   "id": "4cb925da-a632-4650-a471-620dfefdbb09",
   "metadata": {},
   "source": [
    "To calculate the zenith angle of the incoming neutrino relative to the surface of Earth, let $\\textbf{W}$ be the entry point of the neutrino.  From this, we know\n",
    "\n",
    "$\\cos\\phi_{zenith} = -\\hat{\\textbf{W}} \\cdot \\dfrac{\\textbf{X} - \\textbf{W}}{|\\textbf{X} - \\textbf{W}|}$\n",
    "\n",
    "$\\cos\\phi_{zenith} = \\dfrac{R_{\\oplus} - \\hat{\\textbf{W}}\\cdot\\textbf{X}}{|\\textbf{X} - \\textbf{W}|} = \\dfrac{R_{\\oplus}^2 - \\textbf{W}\\cdot\\textbf{X}}{R_{\\oplus}|\\textbf{X} - \\textbf{W}|}$"
   ]
  },
  {
   "cell_type": "code",
   "execution_count": 4,
   "id": "69a83013-2d1a-433f-8653-ec497d64e0a1",
   "metadata": {},
   "outputs": [],
   "source": [
    "def Calc_cos_zeniths(interaction_locs, entry_locs):\n",
    "    '''\n",
    "    Calculates the zenith angles for events given the interaction\n",
    "    location and entry location\n",
    "    \n",
    "    args:\n",
    "        interaction_locs: n-by-3 array for the cartesian interaction positions of\n",
    "                n events in cm (floats)\n",
    "        entry_locs: n-by-3 array for the cartesian entry positions of\n",
    "                n events in cm (floats)\n",
    "                \n",
    "    returns\n",
    "        cos_zeniths: array of n elements of the cosines of the\n",
    "                incoming neutrinos\n",
    "    '''\n",
    "    R_Earth = 6378.1 * 1000* 100    #Radius of the Earth (cm)\n",
    "    \n",
    "    #Calculate the dot products\n",
    "    dot_prods = (interaction_locs[:,0]*entry_locs[:,0] + interaction_locs[:,1]*entry_locs[:,1]\n",
    "                 + interaction_locs[:,2]*entry_locs[:,2])\n",
    "    \n",
    "    #Calculate the difference vector\n",
    "    diff_vecs = np.zeros((len(interaction_locs),3))\n",
    "    diff_vecs[:,0] = interaction_locs[:,0] - entry_locs[:,0]\n",
    "    diff_vecs[:,1] = interaction_locs[:,1] - entry_locs[:,1]\n",
    "    diff_vecs[:,2] = interaction_locs[:,2] - entry_locs[:,2]\n",
    "    diff_mags = np.sqrt(diff_vecs[:,0]**2 + diff_vecs[:,1]**2 + diff_vecs[:,2]**2)\n",
    "    \n",
    "    #Calculate the cosines of the zenith angles\n",
    "    cos_zeniths = (R_Earth**2 - dot_prods)/(R_Earth*diff_mags)\n",
    "    \n",
    "    return(cos_zeniths)"
   ]
  },
  {
   "cell_type": "code",
   "execution_count": 5,
   "id": "36d9b7d7-4d61-43b8-a727-b294efdf106d",
   "metadata": {},
   "outputs": [],
   "source": [
    "def calc_fluxes(Energies,cos_zeniths,flux_name,nu_flavors = ['E','EBar','Mu','MuBar','Tau','TauBar']):\n",
    "    '''\n",
    "    Calculate the flux of specified neutrino components\n",
    "    \n",
    "    args:\n",
    "        Energies: array of initial neutrino energies in GeV (floats)\n",
    "        cos_zeniths: array of cosines of zenith angles relative to\n",
    "                    the surface of Earth for incoming neutrinos (floats)\n",
    "        flux_name: Name of the flux to use for NuFlux (string)\n",
    "        nu_flavors: List of strings specifying the desired neutrino flavors\n",
    "                    If no input, then all types will be calculated.\n",
    "    \n",
    "    returns:\n",
    "        fluxes: array of the neutrino fluxes at the specified energy and\n",
    "            zenith angle in GeV^-1 cm^-2 sr^-1 s^-1 (floats)\n",
    "    '''\n",
    "    #All Units in NuFlux are (GeV^-1 cm^-2 sr^-1 s^-1)\n",
    "    flux = nuflux.makeFlux(flux_name) #Flux to be used for calculations\n",
    "    \n",
    "    #Initialize the different flavors of neutrinos\n",
    "    nu_e_type, nu_e_bar_type = nuflux.NuE, nuflux.NuEBar\n",
    "    nu_mu_type, nu_mu_bar_type = nuflux.NuMu, nuflux.NuMuBar\n",
    "    nu_tau_type, nu_tau_bar_type = nuflux.NuTau, nuflux.NuTauBar\n",
    "    \n",
    "    nu_dict = dict({'E':nu_e_type, 'EBar':nu_e_bar_type,\n",
    "                   'Mu':nu_mu_type, 'MuBar':nu_mu_bar_type,\n",
    "                   'Tau':nu_tau_type, 'TauBar':nu_tau_bar_type})\n",
    "    \n",
    "    #Initialize fluxes\n",
    "    fluxes = np.zeros(len(Energies))\n",
    "    \n",
    "    #Added fluxes for each desired flavor.\n",
    "    for flavor in nu_flavors:\n",
    "        fluxes = fluxes + flux.getFlux(nu_dict[flavor],Energies,cos_zeniths)\n",
    "    \n",
    "    return(fluxes)"
   ]
  },
  {
   "cell_type": "code",
   "execution_count": null,
   "id": "c7752224-84ba-444c-9ff8-5212227f05f6",
   "metadata": {},
   "outputs": [],
   "source": []
  }
 ],
 "metadata": {
  "kernelspec": {
   "display_name": "test_env",
   "language": "python",
   "name": "test_env"
  },
  "language_info": {
   "codemirror_mode": {
    "name": "ipython",
    "version": 3
   },
   "file_extension": ".py",
   "mimetype": "text/x-python",
   "name": "python",
   "nbconvert_exporter": "python",
   "pygments_lexer": "ipython3",
   "version": "3.9.5"
  }
 },
 "nbformat": 4,
 "nbformat_minor": 5
}
