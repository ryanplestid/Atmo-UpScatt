{
 "cells": [
  {
   "cell_type": "code",
   "execution_count": 3,
   "id": "250db389-4223-418e-889e-f3e6c86d2ee0",
   "metadata": {},
   "outputs": [],
   "source": [
    "#Initialization\n",
    "import numpy as np #Package for array functions\n",
    "import formFactorFit\n",
    "from numpy import random as rand\n",
    "from numpy import sin, cos\n",
    "from numpy import pi as pi"
   ]
  },
  {
   "cell_type": "markdown",
   "id": "67b1889f-df88-4176-a55d-e8a3838e8ab1",
   "metadata": {},
   "source": [
    "# Scattering Angles"
   ]
  },
  {
   "cell_type": "markdown",
   "id": "843b400b-8cac-4484-8cce-08bfdfad0cb3",
   "metadata": {},
   "source": [
    "We would like to preferentially sample our scattering angles such that we get events with the highest cross sections.  In our case, $\\dfrac{d\\sigma}{d\\cos\\Theta} \\sim \\dfrac{1}{1-\\cos\\Theta}$ roughly.  To sample according to this inverse relationship, we will let $\\chi \\sim U[0,1]$ and\n",
    "\n",
    "$\\cos\\Theta = 1 - (1-\\cos(\\Theta_{min}))^{1-\\chi} (1-\\cos(\\Theta_{max}))^{\\chi}$\n",
    "\n",
    "where $\\Theta_{max}$ is the maximum scattering angle, determined by the form factor for the scattering. $\\cos(\\Theta_{min}) = 1-\\epsilon$ and $\\epsilon << 1$.  This is done to prevent zeros in the denominator"
   ]
  },
  {
   "cell_type": "code",
   "execution_count": 4,
   "id": "e8308b78-608f-48bf-bef6-4e4cc98189fb",
   "metadata": {},
   "outputs": [],
   "source": [
    "def Sample_cos_Theta(Num_Events, epsilon, Theta_max = pi ):\n",
    "    '''\n",
    "    Samples cosines of the scattering angles according to a 1/(1-cos(Theta)) distribution\n",
    "    \n",
    "    args:\n",
    "        Num_Events: number of scattering angles that we wish to sample (int)\n",
    "        epsilon: our value of 1 - cos(Theta_min)\n",
    "        Theta_max: maximum scattering angle possible for the interaction (float)\n",
    "    \n",
    "    returns:\n",
    "        cos_Thetas: sampled scattering angles (array of length Num_Events, floats)\n",
    "    '''\n",
    "    cos_Theta_min = 1 - epsilon \n",
    "    cos_Theta_max = cos(Theta_max)\n",
    "    \n",
    "    chi = rand.rand(Num_Events)\n",
    "\n",
    "    cos_Thetas = 1 - (1-cos_Theta_min)**(1-chi) * (1-cos_Theta_max)**chi\n",
    "    return(cos_Thetas)"
   ]
  },
  {
   "cell_type": "markdown",
   "id": "830f84fb-bc4f-4c74-9c16-e4c6446c4af4",
   "metadata": {},
   "source": [
    "When we perform the integral, we will need some weight for the cross-sections to account for how we sampled them.  We define this weight as\n",
    "\n",
    "$w_{\\Theta} = \\ln \\bigg(\\, \\dfrac{1 - \\cos(\\Theta_{max})}{1- \\cos(\\Theta_{min}) } \\bigg )\\, \\dfrac{1-\\cos(\\Theta)}{\\cos(\\Theta_{min}) - \\cos(\\Theta_{max})}$"
   ]
  },
  {
   "cell_type": "code",
   "execution_count": 5,
   "id": "3f7c10eb-3cd0-4568-be07-43ea47901319",
   "metadata": {},
   "outputs": [],
   "source": [
    "def weight_cos_Theta(cos_Theta, epsilon, Theta_max = pi):\n",
    "    '''\n",
    "    Determines the correct weights for our preferential sampling of scattering angles\n",
    "    \n",
    "    args:\n",
    "        cos_Theta: cosine of the scattering angle for a particular event (float or array of floats)\n",
    "        epsilon: our value of 1 - cos(Theta_min)\n",
    "        Theta_max: maximum scattering angle possible for the interaction (float)\n",
    "    \n",
    "    returns:\n",
    "        w_Theta: the proper weight for the event (float same size as cos_Theta)\n",
    "    '''\n",
    "    cos_Theta_min = 1 - epsilon \n",
    "    cos_Theta_max = cos(Theta_max)\n",
    "    \n",
    "    w_Theta = np.log((1-cos_Theta_max)/(1-cos_Theta_min)) * (1-cos_Theta)/(cos_Theta_min - cos_Theta_max)\n",
    "    \n",
    "    return(w_Theta)"
   ]
  },
  {
   "cell_type": "markdown",
   "id": "c07ddd58-9a21-4e1c-ab3b-2e185b31acf9",
   "metadata": {},
   "source": [
    "## Arbitrary Cross Section"
   ]
  },
  {
   "cell_type": "markdown",
   "id": "c9b23046-a712-406c-8683-917b17a2e736",
   "metadata": {},
   "source": [
    "If we are given an arbitrary differential cross-section distribution $\\dfrac{1}{\\sigma} \\dfrac{d\\sigma}{d\\cos\\Theta}$ how should we sample angles?\n",
    "\n",
    "To be most effective, we want $\\rho(\\cos\\Theta) = \\dfrac{1}{\\sigma} \\dfrac{d\\sigma}{d\\cos\\Theta}$ (this is already normalized).  If we have a function for the differential cross-section, we can just take the integral as the cdf and work from there.\n",
    "\n",
    "If instead we just have the value at a discrete number of scattering angles, we can define\n",
    "$cdf_i = \\sum\\rho(\\cos\\Theta_i) \\Delta(\\cos\\Theta_i)$\n",
    "\n",
    "After finding the cdf at the given points, sample $\\chi \\sim U[0,1]$ and find the neighboring points such that $cdf_i \\leq \\chi < cdf_{i+1}$.  We can then perform a linear extrapolation from these two points to find the corresponding value of $\\cos\\Theta$"
   ]
  },
  {
   "cell_type": "code",
   "execution_count": 6,
   "id": "0bccc7d7-91e4-469a-94ee-ddb05f4c1d0e",
   "metadata": {},
   "outputs": [],
   "source": [
    "def Sample_Arbitrary_Scat_Angles(num_events,cos_vals,frac_diff_cross_sec_vals):\n",
    "    '''\n",
    "    This function samples scattering angles to best fit a\n",
    "    distribution of scattering cross-sections\n",
    "    \n",
    "    args:\n",
    "        num_events: number of samples we want (int)\n",
    "        cos_vals: cosines of the scattering angles at which we have\n",
    "                data about the cross section (array of floats)\n",
    "        frac_diff_cross_sec_vals: values of 1/sigma * d_simga/d_cos(Theta)\n",
    "                at the specified values of cos(Theta) (array of floats, same size as cos_vals)\n",
    "        \n",
    "    returns:\n",
    "        cos_Thetas: array of length num_Events with the sampled scattering\n",
    "                cross sections.\n",
    "                \n",
    "    actions:\n",
    "        calculates the cdf of the cross section at each angle, selects a\n",
    "        random value between 0 and 1, finds the angle which has the \n",
    "        corresponding cdf\n",
    "    '''\n",
    "    #Create a new array for the cosines with -1 and 1 added\n",
    "    cos_full = np.zeros(len(cos_vals)+2)\n",
    "    cos_full[0],cos_full[-1] = -1,1\n",
    "    cos_full[1:-1] = cos_vals\n",
    "    \n",
    "    #Create a new array for differential cross sections, extending the current edges to -1 and 1\n",
    "    cross_sec_full = np.zeros(len(frac_diff_cross_sec_vals)+2)\n",
    "    cross_sec_full[0], cross_sec_full[-1] = frac_diff_cross_sec_vals[0], frac_diff_cross_sec_vals[-1]\n",
    "    cross_sec_full[1:-1] = frac_diff_cross_sec_vals\n",
    "    \n",
    "    #Create an array for the cdfs\n",
    "    cdfs = np.zeros(len(cos_full))\n",
    "    for i in range(1,len(cdfs)):\n",
    "        cdfs[i] = np.trapz(cross_sec_full[:i+1],cos_full[:i+1])\n",
    "    '''\n",
    "    fig1 = plt.figure()\n",
    "    plt.plot(cos_full, cdfs)\n",
    "    '''\n",
    "    #Uniformly sample the cdf\n",
    "    Ran = rand.rand(num_events)\n",
    "    #Interpolate to find the corresponding cosine value\n",
    "    cos_Thetas = np.interp(Ran,cdfs,cos_full)\n",
    "    return(cos_Thetas)"
   ]
  },
  {
   "cell_type": "markdown",
   "id": "7ef60c01-f84c-4c30-8f51-07f5dbf54d05",
   "metadata": {},
   "source": [
    "We will want to weight this arbitrary sampling, which can be done by\n",
    "\n",
    "$w_{\\Theta} = \\dfrac{\\cos(\\Theta_{min}) - \\cos(\\Theta_{max})}{\\rho(\\cos\\Theta)} $\n",
    "\n",
    "In our method, we don't explicitly limit the maximum and minimum scattering angles (this is done implicitly through the given values of the cross section).  Therefore, our weight becomes\n",
    "\n",
    "$w_{\\Theta} = \\dfrac{2}{\\rho(\\cos(\\Theta))}$\n",
    "\n",
    "We will linearly interpolate the values of $\\dfrac{1}{\\sigma} \\dfrac{d\\sigma}{d\\cos\\Theta}$ to find the weight at each value of $\\cos(\\Theta)$."
   ]
  },
  {
   "cell_type": "code",
   "execution_count": 7,
   "id": "03ade167-575d-43de-86da-15f4cc55e2bf",
   "metadata": {},
   "outputs": [],
   "source": [
    "def Arbitrary_Scattering_Weight(cos_Theta,cos_vals,frac_diff_cross_sec_vals):\n",
    "    '''\n",
    "    This function determines the proper differential for each event\n",
    "    to perform the integral.\n",
    "    args:\n",
    "        cos_Theta: scattering angle of the event(s) (float or array of floats)\n",
    "        cos_vals: cosines of the scattering angles at which we have\n",
    "                data about the cross section (array of floats)\n",
    "        frac_diff_cross_sec_vals: values of 1/sigma * d_simga/d_cos(Theta)\n",
    "                at the specified values of cos(Theta) (array of floats, same size as cos_vals)\n",
    "                \n",
    "    returns:\n",
    "        w_Theta: proper weight for event (float of same size as cos_Theta)\n",
    "    '''\n",
    "    rho = np.interp(cos_Theta,cos_vals,frac_diff_cross_sec_vals) #Weight at scattering angle\n",
    "    w_Theta = 2/ (rho)\n",
    "    \n",
    "    return(w_Theta)"
   ]
  },
  {
   "cell_type": "markdown",
   "id": "37c0be47-8d49-4b22-9b67-0150948a9d32",
   "metadata": {},
   "source": [
    "# Energies"
   ]
  },
  {
   "cell_type": "markdown",
   "id": "d36b18fe-623d-4287-b275-fff688981916",
   "metadata": {},
   "source": [
    "We wish to sample neutrino energies from an arbitrary power-law ($\\rho(E_{\\nu}) \\sim E_{\\nu}^{-\\gamma}$).  To keep this normalized, we use a constant out front\n",
    "\n",
    "$\\int_{E_{min}}^{E_{max}} \\kappa E^{-\\gamma} dE = 1$\n",
    "\n",
    "$\\kappa = \\dfrac{1-\\gamma}{E_{max}^{1-\\gamma} - E_{min}^{1-\\gamma}}$\n",
    "\n",
    "This means that to sample from the cdf, we let $\\chi \\sim U[0,1]$ and then select an energy as\n",
    "\n",
    "$E_{\\nu} = \\bigg (\\, \\dfrac{1-\\gamma}{\\kappa}\\chi + E_{min}^{1-\\gamma} \\bigg )\\,^{\\dfrac{1}{1-\\gamma}} $\n",
    "\n",
    "This works as long as $\\gamma \\neq 1$"
   ]
  },
  {
   "cell_type": "code",
   "execution_count": 8,
   "id": "881be996-752b-47d2-b91f-ba356b426879",
   "metadata": {},
   "outputs": [],
   "source": [
    "def Sample_Neutrino_Energies(num_Events, E_min, E_max, power_law):\n",
    "    '''\n",
    "    This function samples neutrino energies according to a power law\n",
    "    \n",
    "    args:\n",
    "        num_Events: number of energies we wish to sample (int)\n",
    "        E_min: minimum Energy of our distribution in GeV (float)\n",
    "        E_max: maximum Energy of our distriubtion in GeV (float)\n",
    "        power_law: our distibution follows E^{-power_law} (float)\n",
    "    \n",
    "    returns:\n",
    "        Energies: array of length num_Events with the sampled energies (floats)\n",
    "    '''\n",
    "    kappa = (1 - power_law)/ (E_max**(1-power_law) - E_min**(1-power_law)) #Constant used in sampling\n",
    "    rand_chi = rand.rand(num_Events)  #array of random numbers between 0 and 1\n",
    "    \n",
    "    first_terms = ((1-power_law)/kappa) * rand_chi\n",
    "    second_term = E_min**(1-power_law)\n",
    "    \n",
    "    Energies = (first_terms+second_term)**(1/(1-power_law))\n",
    "    \n",
    "    return(Energies)"
   ]
  },
  {
   "cell_type": "markdown",
   "id": "19c7b8ca-ff06-4b79-82c9-de6d18487448",
   "metadata": {},
   "source": [
    "When performing the integral, we need to include a weight to account for our preferential sampling.\n",
    "\n",
    "$w_E(E) = \\dfrac{(E_{\\nu})^{\\gamma}}{\\kappa (E_{max} - E_{min})}$"
   ]
  },
  {
   "cell_type": "code",
   "execution_count": 9,
   "id": "9dc0830e-6a37-46bf-889e-77c4a8513587",
   "metadata": {},
   "outputs": [],
   "source": [
    "def weight_Energy(En, E_min, E_max, power_law):\n",
    "    '''\n",
    "    This function calculates the proper weights to perform the integral\n",
    "    over neutrino energies\n",
    "    \n",
    "    args:\n",
    "        En: Energy of the neutrino in GeV (float or array of floats)\n",
    "        E_min: minimum Energy of our distribution in GeV (float)\n",
    "        E_max: maximum Energy of our distriubtion in GeV (float)\n",
    "        power_law: our distibution follows E^{-power_law} (float)\n",
    "    \n",
    "    returns:\n",
    "        w_Energy: proper weight for event (float same size as En)\n",
    "    '''\n",
    "    kappa = (1 - power_law)/ (E_max**(1-power_law) - E_min**(1-power_law))\n",
    "    w_Energy = En**power_law / (kappa * (E_max - E_min))\n",
    "    return(w_Energy)"
   ]
  },
  {
   "cell_type": "markdown",
   "id": "c70c5052-ed61-4abc-9557-b3f74f6f4ec0",
   "metadata": {},
   "source": [
    "# Interaction locations"
   ]
  },
  {
   "cell_type": "markdown",
   "id": "39818249-72fe-41c0-a908-e7086d689e12",
   "metadata": {},
   "source": [
    "We begin by letting $R_{max} = c\\lambda$ where $\\lambda$ is the decay length and c is a constant.  This indicates the maximum distance away from the detector for which we are interested in neutrino interactions.  We will sample variables as\n",
    "\n",
    "$\\phi^{'} \\sim U[0,2\\pi] \\quad ; \\quad \\cos(\\theta^{'}) \\sim U[-1,1] \\quad ; \\quad r^{'} = min \\{ R_{max}, 2 R_{\\oplus} \\} \\sqrt[3]{\\chi} \\quad \\chi \\sim U[0,1]$\n",
    "\n",
    "Then we say\n",
    "\n",
    "$\\textbf{X} = \\textbf{Y} + \\bigg (\\, r^{'} \\sin(\\theta^{'}) \\cos(\\phi^{'}), r^{'} \\sin(\\theta^{'}) \\sin(\\phi^{'}) , r^{'} \\cos(\\theta^{'}) \\bigg )\\,$\n",
    "\n",
    "We check to see if this location is within Earth; if it is not, we repeat the process"
   ]
  },
  {
   "cell_type": "code",
   "execution_count": 14,
   "id": "71b2d907-26de-44e7-8f60-33d5b4ec6c69",
   "metadata": {},
   "outputs": [],
   "source": [
    "def Sample_Interaction_Locations(Num_Events, Y, R_max):\n",
    "    '''\n",
    "    Sample locations within the Earth for neutrino dipole interactions\n",
    "    \n",
    "    args:\n",
    "        Num_Events: Number of events that we would like to sample (int)\n",
    "        Y: Cartesian coordinates of the detector location in cm (3 element float array)\n",
    "        R_max: Maximum distance for which we care about dipole interactions\n",
    "            (float array with Num_Events elements)\n",
    "    \n",
    "    returns:\n",
    "        x_vect_vals: Num_Events-by-3 array of the sampled locations for the neutrino\n",
    "                dipole interactions in cm\n",
    "    '''\n",
    "    \n",
    "    R_Earth = 6378.1 * 1000* 100    #Radius of the Earth (cm)\n",
    "    \n",
    "    x_vect_vals = np.zeros((Num_Events,3)) #positions of interactions (cm)\n",
    "    needed_indeces = x_vect_vals[:,0] < 1 #indeces for which we still need to assign positions\n",
    "    needed_events = Num_Events\n",
    "    x_mags = np.zeros(Num_Events)\n",
    "    \n",
    "    while needed_events > 0:\n",
    "        r_primes = np.minimum(2*R_Earth,R_max[needed_indeces]) * (rand.rand(needed_events)**(1/3)) #cm\n",
    "        cos_theta_primes = 1 - 2 * rand.rand(needed_events)\n",
    "        theta_primes = np.arccos(cos_theta_primes)\n",
    "        phi_primes = 2*pi*rand.rand(needed_events)\n",
    "\n",
    "        #Find the vector from the spherical coordinate vals\n",
    "        x_vect_vals[needed_indeces,0] = Y[0] + r_primes*sin(theta_primes)*cos(phi_primes)\n",
    "        x_vect_vals[needed_indeces,1] = Y[1] + r_primes*sin(theta_primes)*sin(phi_primes)\n",
    "        x_vect_vals[needed_indeces,2] = Y[2] + r_primes*cos(theta_primes)\n",
    "        \n",
    "        x_mags = np.sqrt(x_vect_vals[:,0]**2 + x_vect_vals[:,1]**2 + x_vect_vals[:,2]**2)\n",
    "        needed_indeces = x_mags > R_Earth\n",
    "        needed_events = sum(needed_indeces)\n",
    "        #print(100 - 100 * needed_events/Num_Events, \"% done\")\n",
    "        \n",
    "    return(x_vect_vals)"
   ]
  },
  {
   "cell_type": "markdown",
   "id": "e42949a4-5970-4b45-b447-db3b410f7d97",
   "metadata": {},
   "source": [
    "For weighting the positions of the events, we just need to calculate $\\dfrac{V_{int}}{V_{\\oplus}}$ where $V_{int}$ is the volume in which there is the possibility of interaction."
   ]
  },
  {
   "cell_type": "code",
   "execution_count": 15,
   "id": "a7791a18-61c2-4781-91ca-9bc12e11d03e",
   "metadata": {},
   "outputs": [],
   "source": [
    "def weight_positions(Y,R_max):\n",
    "    \n",
    "    R_Earth = 6378.1 * 1000* 100    #Radius of the Earth (cm)\n",
    "    V_Earth = 4*pi/3 * R_Earth**3\n",
    "    V_int = 0\n",
    "    Y_mag = np.sqrt(np.dot(Y,Y))\n",
    "    \n",
    "    \n",
    "    V_int += 4*pi/3 * R_max**3 * np.heaviside(R_Earth - R_max - Y_mag,1)\n",
    "    \n",
    "    V_int += 4*pi/3 * R_Earth**3 * np.heaviside(R_max - R_Earth - Y_mag,0)\n",
    "    \n",
    "    V_int += pi/(12*Y_mag) * ((R_Earth + R_max - Y_mag)**2 \n",
    "                      * (Y_mag**2 + 2*Y_mag*(R_Earth+R_max) - 3*(R_Earth - R_max)**2)\n",
    "                      *np.heaviside(R_max + Y_mag - R_Earth,0) * np.heaviside(R_Earth + Y_mag - R_max,1))\n",
    "    \n",
    "    w_V = V_int / V_Earth\n",
    "    return(w_V)"
   ]
  },
  {
   "cell_type": "markdown",
   "id": "4c6a796e-b1c9-4d9a-b38f-b150aaea7d9e",
   "metadata": {},
   "source": [
    "# Neutrino Entry Position"
   ]
  },
  {
   "cell_type": "markdown",
   "id": "713490e1-9c2c-4ebf-94a5-725695a04786",
   "metadata": {},
   "source": [
    "We will denote the neutrino entry location as $\\textbf{W}$.  We know that\n",
    "\n",
    "$\\dfrac{\\textbf{X} - \\textbf{W}}{|\\textbf{X} - \\textbf{W}|} \\cdot \\dfrac{\\textbf{Y} - \\textbf{X}}{\\textbf{Y} - \\textbf{X}} = \\cos(\\Theta)$\n",
    "\n",
    "let $\\overrightarrow{v_{in}} = \\textbf{X} - \\textbf{W}$, therefore\n",
    "\n",
    "$\\hat{v_{in}} = \\dfrac{\\textbf{Y} - \\textbf{X}}{|\\textbf{Y} - \\textbf{X}|} \\cos(\\Theta) + \\hat{v_1}\\sin(\\Theta)\\cos(\\psi) + \\hat{v_2}\\sin(\\Theta) \\sin(\\psi)$\n",
    "\n",
    "The choice of $\\hat{v_1}$ and $\\hat{v_2}$ is arbitrary as long as the vectors satisfy the orthonomality requirement.  To make things simpler\n",
    "\n",
    "$\\hat{v_1} = \\dfrac{(\\textbf{Y} - \\textbf{X})\\times -\\textbf{Y}}{|(\\textbf{Y} - \\textbf{X})\\times -\\textbf{Y}|} = \\dfrac{\\textbf{X} \\times \\textbf{Y}}{|\\textbf{X} \\times \\textbf{Y}|}$\n",
    "\n",
    "Then\n",
    "\n",
    "$\\hat{v_2} = \\dfrac{\\textbf{Y} - \\textbf{X}}{|\\textbf{Y} - \\textbf{X}|} \\times \\hat{v_1} = \\dfrac{\\textbf{Y} \\times (\\textbf{X} \\times \\textbf{Y}) - \\textbf{X} \\times (\\textbf{X} \\times \\textbf{Y})}{|\\textbf{X} \\times \\textbf{Y}| |\\textbf{Y} - \\textbf{X}|}$"
   ]
  },
  {
   "cell_type": "markdown",
   "id": "7826d595-d8d5-46b3-bca3-344a0d5ec701",
   "metadata": {},
   "source": [
    "We also know that $|\\textbf{X} - \\overrightarrow{v_{in}}|^2 = R_{\\oplus}^2$, so we know that\n",
    "\n",
    "$|\\overrightarrow{v_{in}}| = \\textbf{X}\\cdot\\hat{v_{in}} + \\sqrt{\\textbf{X}\\cdot\\hat{v_{in}} + R_{\\oplus}^2 -|\\textbf{X}|^2 } $"
   ]
  },
  {
   "cell_type": "markdown",
   "id": "d4a86ac1-6ac8-4cf1-81f4-ca77873e432a",
   "metadata": {},
   "source": [
    "Using this, we can find $\\textbf{W}$ as\n",
    "\n",
    "$\\textbf{W} = \\textbf{X} - \\hat{v_{in}} |\\overrightarrow{v_{in}}|$"
   ]
  },
  {
   "cell_type": "code",
   "execution_count": null,
   "id": "4c406ae8-8f59-4272-986f-447bd4720843",
   "metadata": {},
   "outputs": [],
   "source": [
    "def Sample_Neutrino_Entry_Position(X, Y, cos_Theta):\n",
    "    \n",
    "    '''\n",
    "    Samples the location where the neutrino entered the Earth\n",
    "    \n",
    "    args:\n",
    "        X: Cartesian coordinates of the neutrino interaction in cm\n",
    "            (number of events-by-3 array of floats)\n",
    "        Y: Cartesian coordinates of the detector position in cm\n",
    "            (3 element array of floats)\n",
    "        cos_Theta: scattering angles for the neutrino interactions\n",
    "            (array of floats of length number of events)\n",
    "    \n",
    "    returns:\n",
    "        W: Cartesian coordinates of the neutrino entry position in cm\n",
    "            (number of events-by-3 array of floats.)\n",
    "    '''\n",
    "    v_1_hat = np.zeros((len(cos_Theta),3))\n",
    "    v_2_hat = np.zeros((len(cos_Theta),3))\n",
    "    v_in_hat = np.zeros((len(cos_Theta),3))\n",
    "    psi = 2*pi*rand.rand(len(cos_Theta))\n",
    "    Theta = np.arccos(cos_Theta)\n",
    "    R_Earth = 6378.1 * 1000* 100    #Radius of the Earth (cm)\n",
    "    \n",
    "    X_mag = np.sqrt(X[:,0]**2 + X[:,1]**2 + X[:,2]**2)\n",
    "    \n",
    "    X_minus_Y = X-Y\n",
    "    X_minus_Y_mag = np.sqrt(X_minus_Y[:,0]**2 + X_minus_Y[:,1]**2 + X_minus_Y[:,2]**2)\n",
    "    \n",
    "    X_minus_Y_hat = np.zeros((len(cos_Theta),3))\n",
    "    X_minus_Y_hat[:,0] = X_minus_Y[:,0]/X_minus_Y_mag\n",
    "    X_minus_Y_hat[:,1] = X_minus_Y[:,1]/X_minus_Y_mag\n",
    "    X_minus_Y_hat[:,2] = X_minus_Y[:,2]/X_minus_Y_mag\n",
    "    \n",
    "    X_cross_Y = np.cross(X,Y)\n",
    "    X_cross_Y_mag = np.sqrt(X_cross_Y[:,0]**2 + X_cross_Y[:,1]**2 + X_cross_Y[:,2]**2)\n",
    "    \n",
    "    \n",
    "    v_1_hat[:,0] = X_cross_Y[:,0]/X_cross_Y_mag\n",
    "    v_1_hat[:,1] = X_cross_Y[:,1]/X_cross_Y_mag\n",
    "    v_1_hat[:,2] = X_cross_Y[:,2]/X_cross_Y_mag\n",
    "    \n",
    "    \n",
    "    v_2_hat = np.cross(X_minus_Y_hat, v_1_hat)\n",
    "    \n",
    "    v_in_hat[:,0] = (-X_minus_Y[:,0]/X_minus_Y_mag * cos(Theta) + v_1_hat[:,0] * sin(Theta) * cos(psi)\n",
    "                     + v_2_hat[:,0] * sin(Theta) * sin(psi) )\n",
    "    v_in_hat[:,1] = (-X_minus_Y[:,1]/X_minus_Y_mag * cos(Theta) + v_1_hat[:,1] * sin(Theta) * cos(psi)\n",
    "                     + v_2_hat[:,1] * sin(Theta) * sin(psi) )\n",
    "    v_in_hat[:,2] = (-X_minus_Y[:,2]/X_minus_Y_mag * cos(Theta) + v_1_hat[:,2] * sin(Theta) * cos(psi)\n",
    "                     + v_2_hat[:,2] * sin(Theta) * sin(psi) )\n",
    "    \n",
    "    \n",
    "    \n",
    "    X_dot_v_in_hat = X[:,0] * v_in_hat[:,0] + X[:,1] * v_in_hat[:,1] + X[:,2] * v_in_hat[:,2]\n",
    "    \n",
    "    v_in_mag = X_dot_v_in_hat + np.sqrt(X_dot_v_in_hat +R_Earth**2 - X_mag**2)\n",
    "    \n",
    "    W = np.zeros((len(cos_Theta),3))\n",
    "    W[:,0] = X[:,0] - v_in_hat[:,0] * v_in_mag\n",
    "    W[:,1] = X[:,1] - v_in_hat[:,1] * v_in_mag\n",
    "    W[:,2] = X[:,2] - v_in_hat[:,2] * v_in_mag\n",
    "    return(W)"
   ]
  }
 ],
 "metadata": {
  "kernelspec": {
   "display_name": "test_env",
   "language": "python",
   "name": "test_env"
  },
  "language_info": {
   "codemirror_mode": {
    "name": "ipython",
    "version": 3
   },
   "file_extension": ".py",
   "mimetype": "text/x-python",
   "name": "python",
   "nbconvert_exporter": "python",
   "pygments_lexer": "ipython3",
   "version": "3.9.5"
  }
 },
 "nbformat": 4,
 "nbformat_minor": 5
}
